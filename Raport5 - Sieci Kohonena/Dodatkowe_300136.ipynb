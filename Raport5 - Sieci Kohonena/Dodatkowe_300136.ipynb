{
  "nbformat": 4,
  "nbformat_minor": 0,
  "metadata": {
    "colab": {
      "name": "Dodatkowe_300136.ipynb",
      "provenance": [],
      "collapsed_sections": []
    },
    "kernelspec": {
      "name": "python3",
      "display_name": "Python 3"
    },
    "language_info": {
      "name": "python"
    }
  },
  "cells": [
    {
      "cell_type": "code",
      "metadata": {
        "colab": {
          "base_uri": "https://localhost:8080/"
        },
        "id": "JRuRqVCRRxzH",
        "outputId": "19710cb5-bf26-4830-935a-ec3c3b72a89c"
      },
      "source": [
        "#Instalacja sieci Kohonena\n",
        "!pip3 install sklearn_som"
      ],
      "execution_count": 1,
      "outputs": [
        {
          "output_type": "stream",
          "text": [
            "Requirement already satisfied: sklearn_som in /usr/local/lib/python3.7/dist-packages (1.0.1)\n",
            "Requirement already satisfied: numpy in /usr/local/lib/python3.7/dist-packages (from sklearn_som) (1.19.5)\n"
          ],
          "name": "stdout"
        }
      ]
    },
    {
      "cell_type": "code",
      "metadata": {
        "id": "kZHw48ERSeMY"
      },
      "source": [
        "import numpy as np\n",
        "import pandas as pd\n",
        "from scipy import stats\n",
        "from sklearn_som.som import SOM"
      ],
      "execution_count": 2,
      "outputs": []
    },
    {
      "cell_type": "code",
      "metadata": {
        "colab": {
          "resources": {
            "http://localhost:8080/nbextensions/google.colab/files.js": {
              "data": "Ly8gQ29weXJpZ2h0IDIwMTcgR29vZ2xlIExMQwovLwovLyBMaWNlbnNlZCB1bmRlciB0aGUgQXBhY2hlIExpY2Vuc2UsIFZlcnNpb24gMi4wICh0aGUgIkxpY2Vuc2UiKTsKLy8geW91IG1heSBub3QgdXNlIHRoaXMgZmlsZSBleGNlcHQgaW4gY29tcGxpYW5jZSB3aXRoIHRoZSBMaWNlbnNlLgovLyBZb3UgbWF5IG9idGFpbiBhIGNvcHkgb2YgdGhlIExpY2Vuc2UgYXQKLy8KLy8gICAgICBodHRwOi8vd3d3LmFwYWNoZS5vcmcvbGljZW5zZXMvTElDRU5TRS0yLjAKLy8KLy8gVW5sZXNzIHJlcXVpcmVkIGJ5IGFwcGxpY2FibGUgbGF3IG9yIGFncmVlZCB0byBpbiB3cml0aW5nLCBzb2Z0d2FyZQovLyBkaXN0cmlidXRlZCB1bmRlciB0aGUgTGljZW5zZSBpcyBkaXN0cmlidXRlZCBvbiBhbiAiQVMgSVMiIEJBU0lTLAovLyBXSVRIT1VUIFdBUlJBTlRJRVMgT1IgQ09ORElUSU9OUyBPRiBBTlkgS0lORCwgZWl0aGVyIGV4cHJlc3Mgb3IgaW1wbGllZC4KLy8gU2VlIHRoZSBMaWNlbnNlIGZvciB0aGUgc3BlY2lmaWMgbGFuZ3VhZ2UgZ292ZXJuaW5nIHBlcm1pc3Npb25zIGFuZAovLyBsaW1pdGF0aW9ucyB1bmRlciB0aGUgTGljZW5zZS4KCi8qKgogKiBAZmlsZW92ZXJ2aWV3IEhlbHBlcnMgZm9yIGdvb2dsZS5jb2xhYiBQeXRob24gbW9kdWxlLgogKi8KKGZ1bmN0aW9uKHNjb3BlKSB7CmZ1bmN0aW9uIHNwYW4odGV4dCwgc3R5bGVBdHRyaWJ1dGVzID0ge30pIHsKICBjb25zdCBlbGVtZW50ID0gZG9jdW1lbnQuY3JlYXRlRWxlbWVudCgnc3BhbicpOwogIGVsZW1lbnQudGV4dENvbnRlbnQgPSB0ZXh0OwogIGZvciAoY29uc3Qga2V5IG9mIE9iamVjdC5rZXlzKHN0eWxlQXR0cmlidXRlcykpIHsKICAgIGVsZW1lbnQuc3R5bGVba2V5XSA9IHN0eWxlQXR0cmlidXRlc1trZXldOwogIH0KICByZXR1cm4gZWxlbWVudDsKfQoKLy8gTWF4IG51bWJlciBvZiBieXRlcyB3aGljaCB3aWxsIGJlIHVwbG9hZGVkIGF0IGEgdGltZS4KY29uc3QgTUFYX1BBWUxPQURfU0laRSA9IDEwMCAqIDEwMjQ7CgpmdW5jdGlvbiBfdXBsb2FkRmlsZXMoaW5wdXRJZCwgb3V0cHV0SWQpIHsKICBjb25zdCBzdGVwcyA9IHVwbG9hZEZpbGVzU3RlcChpbnB1dElkLCBvdXRwdXRJZCk7CiAgY29uc3Qgb3V0cHV0RWxlbWVudCA9IGRvY3VtZW50LmdldEVsZW1lbnRCeUlkKG91dHB1dElkKTsKICAvLyBDYWNoZSBzdGVwcyBvbiB0aGUgb3V0cHV0RWxlbWVudCB0byBtYWtlIGl0IGF2YWlsYWJsZSBmb3IgdGhlIG5leHQgY2FsbAogIC8vIHRvIHVwbG9hZEZpbGVzQ29udGludWUgZnJvbSBQeXRob24uCiAgb3V0cHV0RWxlbWVudC5zdGVwcyA9IHN0ZXBzOwoKICByZXR1cm4gX3VwbG9hZEZpbGVzQ29udGludWUob3V0cHV0SWQpOwp9CgovLyBUaGlzIGlzIHJvdWdobHkgYW4gYXN5bmMgZ2VuZXJhdG9yIChub3Qgc3VwcG9ydGVkIGluIHRoZSBicm93c2VyIHlldCksCi8vIHdoZXJlIHRoZXJlIGFyZSBtdWx0aXBsZSBhc3luY2hyb25vdXMgc3RlcHMgYW5kIHRoZSBQeXRob24gc2lkZSBpcyBnb2luZwovLyB0byBwb2xsIGZvciBjb21wbGV0aW9uIG9mIGVhY2ggc3RlcC4KLy8gVGhpcyB1c2VzIGEgUHJvbWlzZSB0byBibG9jayB0aGUgcHl0aG9uIHNpZGUgb24gY29tcGxldGlvbiBvZiBlYWNoIHN0ZXAsCi8vIHRoZW4gcGFzc2VzIHRoZSByZXN1bHQgb2YgdGhlIHByZXZpb3VzIHN0ZXAgYXMgdGhlIGlucHV0IHRvIHRoZSBuZXh0IHN0ZXAuCmZ1bmN0aW9uIF91cGxvYWRGaWxlc0NvbnRpbnVlKG91dHB1dElkKSB7CiAgY29uc3Qgb3V0cHV0RWxlbWVudCA9IGRvY3VtZW50LmdldEVsZW1lbnRCeUlkKG91dHB1dElkKTsKICBjb25zdCBzdGVwcyA9IG91dHB1dEVsZW1lbnQuc3RlcHM7CgogIGNvbnN0IG5leHQgPSBzdGVwcy5uZXh0KG91dHB1dEVsZW1lbnQubGFzdFByb21pc2VWYWx1ZSk7CiAgcmV0dXJuIFByb21pc2UucmVzb2x2ZShuZXh0LnZhbHVlLnByb21pc2UpLnRoZW4oKHZhbHVlKSA9PiB7CiAgICAvLyBDYWNoZSB0aGUgbGFzdCBwcm9taXNlIHZhbHVlIHRvIG1ha2UgaXQgYXZhaWxhYmxlIHRvIHRoZSBuZXh0CiAgICAvLyBzdGVwIG9mIHRoZSBnZW5lcmF0b3IuCiAgICBvdXRwdXRFbGVtZW50Lmxhc3RQcm9taXNlVmFsdWUgPSB2YWx1ZTsKICAgIHJldHVybiBuZXh0LnZhbHVlLnJlc3BvbnNlOwogIH0pOwp9CgovKioKICogR2VuZXJhdG9yIGZ1bmN0aW9uIHdoaWNoIGlzIGNhbGxlZCBiZXR3ZWVuIGVhY2ggYXN5bmMgc3RlcCBvZiB0aGUgdXBsb2FkCiAqIHByb2Nlc3MuCiAqIEBwYXJhbSB7c3RyaW5nfSBpbnB1dElkIEVsZW1lbnQgSUQgb2YgdGhlIGlucHV0IGZpbGUgcGlja2VyIGVsZW1lbnQuCiAqIEBwYXJhbSB7c3RyaW5nfSBvdXRwdXRJZCBFbGVtZW50IElEIG9mIHRoZSBvdXRwdXQgZGlzcGxheS4KICogQHJldHVybiB7IUl0ZXJhYmxlPCFPYmplY3Q+fSBJdGVyYWJsZSBvZiBuZXh0IHN0ZXBzLgogKi8KZnVuY3Rpb24qIHVwbG9hZEZpbGVzU3RlcChpbnB1dElkLCBvdXRwdXRJZCkgewogIGNvbnN0IGlucHV0RWxlbWVudCA9IGRvY3VtZW50LmdldEVsZW1lbnRCeUlkKGlucHV0SWQpOwogIGlucHV0RWxlbWVudC5kaXNhYmxlZCA9IGZhbHNlOwoKICBjb25zdCBvdXRwdXRFbGVtZW50ID0gZG9jdW1lbnQuZ2V0RWxlbWVudEJ5SWQob3V0cHV0SWQpOwogIG91dHB1dEVsZW1lbnQuaW5uZXJIVE1MID0gJyc7CgogIGNvbnN0IHBpY2tlZFByb21pc2UgPSBuZXcgUHJvbWlzZSgocmVzb2x2ZSkgPT4gewogICAgaW5wdXRFbGVtZW50LmFkZEV2ZW50TGlzdGVuZXIoJ2NoYW5nZScsIChlKSA9PiB7CiAgICAgIHJlc29sdmUoZS50YXJnZXQuZmlsZXMpOwogICAgfSk7CiAgfSk7CgogIGNvbnN0IGNhbmNlbCA9IGRvY3VtZW50LmNyZWF0ZUVsZW1lbnQoJ2J1dHRvbicpOwogIGlucHV0RWxlbWVudC5wYXJlbnRFbGVtZW50LmFwcGVuZENoaWxkKGNhbmNlbCk7CiAgY2FuY2VsLnRleHRDb250ZW50ID0gJ0NhbmNlbCB1cGxvYWQnOwogIGNvbnN0IGNhbmNlbFByb21pc2UgPSBuZXcgUHJvbWlzZSgocmVzb2x2ZSkgPT4gewogICAgY2FuY2VsLm9uY2xpY2sgPSAoKSA9PiB7CiAgICAgIHJlc29sdmUobnVsbCk7CiAgICB9OwogIH0pOwoKICAvLyBXYWl0IGZvciB0aGUgdXNlciB0byBwaWNrIHRoZSBmaWxlcy4KICBjb25zdCBmaWxlcyA9IHlpZWxkIHsKICAgIHByb21pc2U6IFByb21pc2UucmFjZShbcGlja2VkUHJvbWlzZSwgY2FuY2VsUHJvbWlzZV0pLAogICAgcmVzcG9uc2U6IHsKICAgICAgYWN0aW9uOiAnc3RhcnRpbmcnLAogICAgfQogIH07CgogIGNhbmNlbC5yZW1vdmUoKTsKCiAgLy8gRGlzYWJsZSB0aGUgaW5wdXQgZWxlbWVudCBzaW5jZSBmdXJ0aGVyIHBpY2tzIGFyZSBub3QgYWxsb3dlZC4KICBpbnB1dEVsZW1lbnQuZGlzYWJsZWQgPSB0cnVlOwoKICBpZiAoIWZpbGVzKSB7CiAgICByZXR1cm4gewogICAgICByZXNwb25zZTogewogICAgICAgIGFjdGlvbjogJ2NvbXBsZXRlJywKICAgICAgfQogICAgfTsKICB9CgogIGZvciAoY29uc3QgZmlsZSBvZiBmaWxlcykgewogICAgY29uc3QgbGkgPSBkb2N1bWVudC5jcmVhdGVFbGVtZW50KCdsaScpOwogICAgbGkuYXBwZW5kKHNwYW4oZmlsZS5uYW1lLCB7Zm9udFdlaWdodDogJ2JvbGQnfSkpOwogICAgbGkuYXBwZW5kKHNwYW4oCiAgICAgICAgYCgke2ZpbGUudHlwZSB8fCAnbi9hJ30pIC0gJHtmaWxlLnNpemV9IGJ5dGVzLCBgICsKICAgICAgICBgbGFzdCBtb2RpZmllZDogJHsKICAgICAgICAgICAgZmlsZS5sYXN0TW9kaWZpZWREYXRlID8gZmlsZS5sYXN0TW9kaWZpZWREYXRlLnRvTG9jYWxlRGF0ZVN0cmluZygpIDoKICAgICAgICAgICAgICAgICAgICAgICAgICAgICAgICAgICAgJ24vYSd9IC0gYCkpOwogICAgY29uc3QgcGVyY2VudCA9IHNwYW4oJzAlIGRvbmUnKTsKICAgIGxpLmFwcGVuZENoaWxkKHBlcmNlbnQpOwoKICAgIG91dHB1dEVsZW1lbnQuYXBwZW5kQ2hpbGQobGkpOwoKICAgIGNvbnN0IGZpbGVEYXRhUHJvbWlzZSA9IG5ldyBQcm9taXNlKChyZXNvbHZlKSA9PiB7CiAgICAgIGNvbnN0IHJlYWRlciA9IG5ldyBGaWxlUmVhZGVyKCk7CiAgICAgIHJlYWRlci5vbmxvYWQgPSAoZSkgPT4gewogICAgICAgIHJlc29sdmUoZS50YXJnZXQucmVzdWx0KTsKICAgICAgfTsKICAgICAgcmVhZGVyLnJlYWRBc0FycmF5QnVmZmVyKGZpbGUpOwogICAgfSk7CiAgICAvLyBXYWl0IGZvciB0aGUgZGF0YSB0byBiZSByZWFkeS4KICAgIGxldCBmaWxlRGF0YSA9IHlpZWxkIHsKICAgICAgcHJvbWlzZTogZmlsZURhdGFQcm9taXNlLAogICAgICByZXNwb25zZTogewogICAgICAgIGFjdGlvbjogJ2NvbnRpbnVlJywKICAgICAgfQogICAgfTsKCiAgICAvLyBVc2UgYSBjaHVua2VkIHNlbmRpbmcgdG8gYXZvaWQgbWVzc2FnZSBzaXplIGxpbWl0cy4gU2VlIGIvNjIxMTU2NjAuCiAgICBsZXQgcG9zaXRpb24gPSAwOwogICAgd2hpbGUgKHBvc2l0aW9uIDwgZmlsZURhdGEuYnl0ZUxlbmd0aCkgewogICAgICBjb25zdCBsZW5ndGggPSBNYXRoLm1pbihmaWxlRGF0YS5ieXRlTGVuZ3RoIC0gcG9zaXRpb24sIE1BWF9QQVlMT0FEX1NJWkUpOwogICAgICBjb25zdCBjaHVuayA9IG5ldyBVaW50OEFycmF5KGZpbGVEYXRhLCBwb3NpdGlvbiwgbGVuZ3RoKTsKICAgICAgcG9zaXRpb24gKz0gbGVuZ3RoOwoKICAgICAgY29uc3QgYmFzZTY0ID0gYnRvYShTdHJpbmcuZnJvbUNoYXJDb2RlLmFwcGx5KG51bGwsIGNodW5rKSk7CiAgICAgIHlpZWxkIHsKICAgICAgICByZXNwb25zZTogewogICAgICAgICAgYWN0aW9uOiAnYXBwZW5kJywKICAgICAgICAgIGZpbGU6IGZpbGUubmFtZSwKICAgICAgICAgIGRhdGE6IGJhc2U2NCwKICAgICAgICB9LAogICAgICB9OwogICAgICBwZXJjZW50LnRleHRDb250ZW50ID0KICAgICAgICAgIGAke01hdGgucm91bmQoKHBvc2l0aW9uIC8gZmlsZURhdGEuYnl0ZUxlbmd0aCkgKiAxMDApfSUgZG9uZWA7CiAgICB9CiAgfQoKICAvLyBBbGwgZG9uZS4KICB5aWVsZCB7CiAgICByZXNwb25zZTogewogICAgICBhY3Rpb246ICdjb21wbGV0ZScsCiAgICB9CiAgfTsKfQoKc2NvcGUuZ29vZ2xlID0gc2NvcGUuZ29vZ2xlIHx8IHt9OwpzY29wZS5nb29nbGUuY29sYWIgPSBzY29wZS5nb29nbGUuY29sYWIgfHwge307CnNjb3BlLmdvb2dsZS5jb2xhYi5fZmlsZXMgPSB7CiAgX3VwbG9hZEZpbGVzLAogIF91cGxvYWRGaWxlc0NvbnRpbnVlLAp9Owp9KShzZWxmKTsK",
              "ok": true,
              "headers": [
                [
                  "content-type",
                  "application/javascript"
                ]
              ],
              "status": 200,
              "status_text": ""
            }
          },
          "base_uri": "https://localhost:8080/",
          "height": 72
        },
        "id": "NTjrElhHSWMw",
        "outputId": "2e277142-5ae9-4642-ef7e-07a6b7d42453"
      },
      "source": [
        "from google.colab import files #Wrzucenie pliku csv do colaba\n",
        "uploaded = files.upload()      # otwierajac normalnie plik .py nie trzeba wywolywac"
      ],
      "execution_count": 3,
      "outputs": [
        {
          "output_type": "display_data",
          "data": {
            "text/html": [
              "\n",
              "     <input type=\"file\" id=\"files-5eca6c78-b805-4aab-a491-69d3fa903cde\" name=\"files[]\" multiple disabled\n",
              "        style=\"border:none\" />\n",
              "     <output id=\"result-5eca6c78-b805-4aab-a491-69d3fa903cde\">\n",
              "      Upload widget is only available when the cell has been executed in the\n",
              "      current browser session. Please rerun this cell to enable.\n",
              "      </output>\n",
              "      <script src=\"/nbextensions/google.colab/files.js\"></script> "
            ],
            "text/plain": [
              "<IPython.core.display.HTML object>"
            ]
          },
          "metadata": {
            "tags": []
          }
        },
        {
          "output_type": "stream",
          "text": [
            "Saving churn_pl_wybrane.csv to churn_pl_wybrane (3).csv\n"
          ],
          "name": "stdout"
        }
      ]
    },
    {
      "cell_type": "code",
      "metadata": {
        "id": "h8KZs5LeSrNL"
      },
      "source": [
        "data = pd.read_csv(\"./churn_pl_wybrane.csv\",sep=\",\",decimal=\".\") # wczytanie pliku csv"
      ],
      "execution_count": 4,
      "outputs": []
    },
    {
      "cell_type": "code",
      "metadata": {
        "id": "T8Bk8ZQqS3_x"
      },
      "source": [
        "data_stand=data[['Czaswspolpracy', 'Liczbawiadomosci', 'Dzienminuty', 'Dzienrozmowy', 'Wieczorminuty','Wieczorrozmowy','Nocminuty','Nocrozmowy','Miedzynarodoweminuty','Miedzynarodowerozmowy','LiczbarozmowzBOK','Planmiedzy01','Pocztagl01']]\n",
        "data_stand=stats.zscore(data_stand) #standaryzacja danych"
      ],
      "execution_count": 5,
      "outputs": []
    },
    {
      "cell_type": "code",
      "metadata": {
        "id": "qJCUhOsqa-Dw"
      },
      "source": [
        "data_som=np.array(data_stand)\n",
        "kohonen = SOM(m=3, n=3, dim=13)\n",
        "kohonen.fit(data_som)\n",
        "data['Klastry'] = kohonen.predict(data_som)"
      ],
      "execution_count": 6,
      "outputs": []
    },
    {
      "cell_type": "code",
      "metadata": {
        "colab": {
          "base_uri": "https://localhost:8080/"
        },
        "id": "J92oVnj3UeFc",
        "outputId": "d8ae0e4d-5b64-4e50-ccfd-ad46f41c2d81"
      },
      "source": [
        "#Klaster 0\n",
        "# Pakiet: duza liczba smsów + wieczornych i nocnych rozmów dla nowych klientow z pocztą glosową\n",
        "print(\"Liczebnosc klastra:\\t\\t\"+str(len(data[data['Klastry'] == 0])))\n",
        "(data[data['Klastry'] == 0]).mean()"
      ],
      "execution_count": 8,
      "outputs": [
        {
          "output_type": "stream",
          "text": [
            "Liczebnosc klastra:\t\t819\n"
          ],
          "name": "stdout"
        },
        {
          "output_type": "execute_result",
          "data": {
            "text/plain": [
              "Czaswspolpracy           100.869353\n",
              "Liczbawiadomosci          29.914530\n",
              "Dzienminuty              179.626618\n",
              "Dzienrozmowy             100.235653\n",
              "Wieczorminuty            202.945543\n",
              "Wieczorrozmowy            99.466422\n",
              "Nocminuty                201.989011\n",
              "Nocrozmowy                99.952381\n",
              "Miedzynarodoweminuty      10.082662\n",
              "Miedzynarodowerozmowy      4.467643\n",
              "LiczbarozmowzBOK           1.525031\n",
              "Planmiedzy01               0.021978\n",
              "Pocztagl01                 1.000000\n",
              "Rezygnacja                 0.059829\n",
              "Klastry                    0.000000\n",
              "dtype: float64"
            ]
          },
          "metadata": {
            "tags": []
          },
          "execution_count": 8
        }
      ]
    },
    {
      "cell_type": "code",
      "metadata": {
        "colab": {
          "base_uri": "https://localhost:8080/"
        },
        "id": "2oM18uuHVLT0",
        "outputId": "5d328f43-edc0-4a99-b3fc-d791e014db17"
      },
      "source": [
        "#Klaster 1\n",
        "# Pakiet: Pakiet sms + wieczorne i nocne rozmowy dla lojalnych klientów zainteresowanych pocztą głosową\n",
        "print(\"Liczebnosc klastra:\\t\\t\"+str(len(data[data['Klastry'] == 1])))\n",
        "(data[data['Klastry'] == 1]).mean()"
      ],
      "execution_count": 10,
      "outputs": [
        {
          "output_type": "stream",
          "text": [
            "Liczebnosc klastra:\t\t6\n"
          ],
          "name": "stdout"
        },
        {
          "output_type": "execute_result",
          "data": {
            "text/plain": [
              "Czaswspolpracy           119.833333\n",
              "Liczbawiadomosci          12.666667\n",
              "Dzienminuty              166.300000\n",
              "Dzienrozmowy             101.500000\n",
              "Wieczorminuty            217.733333\n",
              "Wieczorrozmowy           108.166667\n",
              "Nocminuty                239.283333\n",
              "Nocrozmowy               116.833333\n",
              "Miedzynarodoweminuty       9.066667\n",
              "Miedzynarodowerozmowy      3.333333\n",
              "LiczbarozmowzBOK           0.833333\n",
              "Planmiedzy01               0.000000\n",
              "Pocztagl01                 1.000000\n",
              "Rezygnacja                 0.000000\n",
              "Klastry                    1.000000\n",
              "dtype: float64"
            ]
          },
          "metadata": {
            "tags": []
          },
          "execution_count": 10
        }
      ]
    },
    {
      "cell_type": "code",
      "metadata": {
        "colab": {
          "base_uri": "https://localhost:8080/"
        },
        "id": "GKN7YsyhVX-h",
        "outputId": "6fb8deb8-0713-4433-eb3a-7d3efb21b2de"
      },
      "source": [
        "#Klaster 2\n",
        "# Pakiet: Dużo rozmów przez całą dobę bez miedzynarodowych połączeń dla klientów lojalnych\n",
        "print(\"Liczebnosc klastra:\\t\\t\"+str(len(data[data['Klastry'] == 2])))\n",
        "(data[data['Klastry'] == 2]).mean()"
      ],
      "execution_count": 12,
      "outputs": [
        {
          "output_type": "stream",
          "text": [
            "Liczebnosc klastra:\t\t499\n"
          ],
          "name": "stdout"
        },
        {
          "output_type": "execute_result",
          "data": {
            "text/plain": [
              "Czaswspolpracy           105.561122\n",
              "Liczbawiadomosci           0.000000\n",
              "Dzienminuty              200.055711\n",
              "Dzienrozmowy             105.877756\n",
              "Wieczorminuty            195.899599\n",
              "Wieczorrozmowy           107.825651\n",
              "Nocminuty                226.875150\n",
              "Nocrozmowy               106.697395\n",
              "Miedzynarodoweminuty       7.731864\n",
              "Miedzynarodowerozmowy      3.845691\n",
              "LiczbarozmowzBOK           0.969940\n",
              "Planmiedzy01               0.000000\n",
              "Pocztagl01                 0.000000\n",
              "Rezygnacja                 0.160321\n",
              "Klastry                    2.000000\n",
              "dtype: float64"
            ]
          },
          "metadata": {
            "tags": []
          },
          "execution_count": 12
        }
      ]
    },
    {
      "cell_type": "code",
      "metadata": {
        "colab": {
          "base_uri": "https://localhost:8080/"
        },
        "id": "SHb12qSOVbZb",
        "outputId": "5fb7f70a-a583-4449-aa5e-0686d1f4ff90"
      },
      "source": [
        "#Klaster 3\n",
        "# Pakiet: pakiet sms + wieczorne i nocne rozmowy dla nowych klientow korzystających z poczty glosowej i zainteresowanych polaczeniami miedzynarodowymi\n",
        "print(\"Liczebnosc klastra:\\t\\t\"+str(len(data[data['Klastry'] == 3])))\n",
        "(data[data['Klastry'] == 3]).mean()"
      ],
      "execution_count": 13,
      "outputs": [
        {
          "output_type": "stream",
          "text": [
            "Liczebnosc klastra:\t\t42\n"
          ],
          "name": "stdout"
        },
        {
          "output_type": "execute_result",
          "data": {
            "text/plain": [
              "Czaswspolpracy            91.785714\n",
              "Liczbawiadomosci          24.500000\n",
              "Dzienminuty              174.902381\n",
              "Dzienrozmowy              84.571429\n",
              "Wieczorminuty            218.571429\n",
              "Wieczorrozmowy           105.261905\n",
              "Nocminuty                193.516667\n",
              "Nocrozmowy               108.500000\n",
              "Miedzynarodoweminuty      11.416667\n",
              "Miedzynarodowerozmowy      4.642857\n",
              "LiczbarozmowzBOK           1.428571\n",
              "Planmiedzy01               0.500000\n",
              "Pocztagl01                 1.000000\n",
              "Rezygnacja                 0.214286\n",
              "Klastry                    3.000000\n",
              "dtype: float64"
            ]
          },
          "metadata": {
            "tags": []
          },
          "execution_count": 13
        }
      ]
    },
    {
      "cell_type": "code",
      "metadata": {
        "colab": {
          "base_uri": "https://localhost:8080/"
        },
        "id": "uleqWGHAVe95",
        "outputId": "dc5cfe9d-09b7-42ee-975e-10c2b5620336"
      },
      "source": [
        "#Klaster 4\n",
        "# Pakiet: Wieczorny i nocny pakiet rozmów dla nowych klientów razem z polaczeniami miedzynarodowymi\n",
        "print(\"Liczebnosc klastra:\\t\\t\"+str(len(data[data['Klastry'] == 4])))\n",
        "(data[data['Klastry'] == 4]).mean()"
      ],
      "execution_count": 14,
      "outputs": [
        {
          "output_type": "stream",
          "text": [
            "Liczebnosc klastra:\t\t398\n"
          ],
          "name": "stdout"
        },
        {
          "output_type": "execute_result",
          "data": {
            "text/plain": [
              "Czaswspolpracy            89.052764\n",
              "Liczbawiadomosci           0.000000\n",
              "Dzienminuty              180.164070\n",
              "Dzienrozmowy              84.045226\n",
              "Wieczorminuty            216.713819\n",
              "Wieczorrozmowy           111.489950\n",
              "Nocminuty                191.875628\n",
              "Nocrozmowy               105.816583\n",
              "Miedzynarodoweminuty      11.239196\n",
              "Miedzynarodowerozmowy      3.650754\n",
              "LiczbarozmowzBOK           1.590452\n",
              "Planmiedzy01               0.000000\n",
              "Pocztagl01                 0.000000\n",
              "Rezygnacja                 0.115578\n",
              "Klastry                    4.000000\n",
              "dtype: float64"
            ]
          },
          "metadata": {
            "tags": []
          },
          "execution_count": 14
        }
      ]
    },
    {
      "cell_type": "code",
      "metadata": {
        "colab": {
          "base_uri": "https://localhost:8080/"
        },
        "id": "pxJqt7Q8VikI",
        "outputId": "5c7a1e50-8518-45bf-e58a-18a3ef153bdc"
      },
      "source": [
        "#Klaster 5\n",
        "# Pakiet: pakiet rozmow wieczornych i nocnych dla nowych klientów bez połączeń międzynarodowych\n",
        "print(\"Liczebnosc klastra:\\t\\t\"+str(len(data[data['Klastry'] == 5])))\n",
        "(data[data['Klastry'] == 5]).mean()"
      ],
      "execution_count": 15,
      "outputs": [
        {
          "output_type": "stream",
          "text": [
            "Liczebnosc klastra:\t\t449\n"
          ],
          "name": "stdout"
        },
        {
          "output_type": "execute_result",
          "data": {
            "text/plain": [
              "Czaswspolpracy           101.498886\n",
              "Liczbawiadomosci           0.000000\n",
              "Dzienminuty              185.887973\n",
              "Dzienrozmowy             107.741648\n",
              "Wieczorminuty            231.694432\n",
              "Wieczorrozmowy            97.095768\n",
              "Nocminuty                204.302227\n",
              "Nocrozmowy                98.770601\n",
              "Miedzynarodoweminuty      10.721826\n",
              "Miedzynarodowerozmowy      5.069042\n",
              "LiczbarozmowzBOK           0.973274\n",
              "Planmiedzy01               0.000000\n",
              "Pocztagl01                 0.000000\n",
              "Rezygnacja                 0.164811\n",
              "Klastry                    5.000000\n",
              "dtype: float64"
            ]
          },
          "metadata": {
            "tags": []
          },
          "execution_count": 15
        }
      ]
    },
    {
      "cell_type": "code",
      "metadata": {
        "colab": {
          "base_uri": "https://localhost:8080/"
        },
        "id": "G0WT4h5-Vl75",
        "outputId": "e7b136b3-3a95-4f0a-c8ac-e036b7a9cb50"
      },
      "source": [
        "#Klaster 6\n",
        "# Pakiet: mała liczba smsów  + pakiet rozmów przez całą dobę dla klientów lojalnościowych z pakietem miedzynarodowym\n",
        "print(\"Liczebnosc klastra:\\t\\t\"+str(len(data[data['Klastry'] == 6])))\n",
        "(data[data['Klastry'] == 6]).mean()"
      ],
      "execution_count": 16,
      "outputs": [
        {
          "output_type": "stream",
          "text": [
            "Liczebnosc klastra:\t\t284\n"
          ],
          "name": "stdout"
        },
        {
          "output_type": "execute_result",
          "data": {
            "text/plain": [
              "Czaswspolpracy           104.778169\n",
              "Liczbawiadomosci           4.764085\n",
              "Dzienminuty              187.633451\n",
              "Dzienrozmowy             101.281690\n",
              "Wieczorminuty            200.221479\n",
              "Wieczorrozmowy           101.207746\n",
              "Nocminuty                195.117958\n",
              "Nocrozmowy               101.197183\n",
              "Miedzynarodoweminuty      10.688028\n",
              "Miedzynarodowerozmowy      4.623239\n",
              "LiczbarozmowzBOK           1.503521\n",
              "Planmiedzy01               1.000000\n",
              "Pocztagl01                 0.186620\n",
              "Rezygnacja                 0.433099\n",
              "Klastry                    6.000000\n",
              "dtype: float64"
            ]
          },
          "metadata": {
            "tags": []
          },
          "execution_count": 16
        }
      ]
    },
    {
      "cell_type": "code",
      "metadata": {
        "colab": {
          "base_uri": "https://localhost:8080/"
        },
        "id": "r3hQBRj0VpfQ",
        "outputId": "5dc976fe-e169-4eb2-9b7d-ce36bc49c157"
      },
      "source": [
        "#Klaster 7\n",
        "# Pakiet: pakiet oszczednosciowy dla nowych klientów. (lubiacych rozmawiac z BOK)\n",
        "print(\"Liczebnosc klastra:\\t\\t\"+str(len(data[data['Klastry'] == 7])))\n",
        "(data[data['Klastry'] == 7]).mean()"
      ],
      "execution_count": 17,
      "outputs": [
        {
          "output_type": "stream",
          "text": [
            "Liczebnosc klastra:\t\t295\n"
          ],
          "name": "stdout"
        },
        {
          "output_type": "execute_result",
          "data": {
            "text/plain": [
              "Czaswspolpracy            91.664407\n",
              "Liczbawiadomosci           0.000000\n",
              "Dzienminuty              173.515932\n",
              "Dzienrozmowy              95.016949\n",
              "Wieczorminuty            168.370169\n",
              "Wieczorrozmowy           104.457627\n",
              "Nocminuty                183.803051\n",
              "Nocrozmowy                97.254237\n",
              "Miedzynarodoweminuty      10.577627\n",
              "Miedzynarodowerozmowy      3.718644\n",
              "LiczbarozmowzBOK           3.213559\n",
              "Planmiedzy01               0.000000\n",
              "Pocztagl01                 0.000000\n",
              "Rezygnacja                 0.216949\n",
              "Klastry                    7.000000\n",
              "dtype: float64"
            ]
          },
          "metadata": {
            "tags": []
          },
          "execution_count": 17
        }
      ]
    },
    {
      "cell_type": "code",
      "metadata": {
        "colab": {
          "base_uri": "https://localhost:8080/"
        },
        "id": "OLjqWJT7VpZH",
        "outputId": "756936e0-5c4c-4c22-990e-39fe21664985"
      },
      "source": [
        "#Klaster 8\n",
        "# Pakiet: Rozmowy wieczorne i nocne + miedzynarodowe dla lojalnych klientów\n",
        "print(\"Liczebnosc klastra:\\t\\t\"+str(len(data[data['Klastry'] == 8])))\n",
        "(data[data['Klastry'] == 8]).mean()"
      ],
      "execution_count": 18,
      "outputs": [
        {
          "output_type": "stream",
          "text": [
            "Liczebnosc klastra:\t\t541\n"
          ],
          "name": "stdout"
        },
        {
          "output_type": "execute_result",
          "data": {
            "text/plain": [
              "Czaswspolpracy           109.378928\n",
              "Liczbawiadomosci           0.066543\n",
              "Dzienminuty              155.749723\n",
              "Dzienrozmowy             105.443623\n",
              "Wieczorminuty            182.254713\n",
              "Wieczorrozmowy            84.687616\n",
              "Nocminuty                191.441405\n",
              "Nocrozmowy                91.321627\n",
              "Miedzynarodoweminuty      11.142329\n",
              "Miedzynarodowerozmowy      5.541590\n",
              "LiczbarozmowzBOK           1.785582\n",
              "Planmiedzy01               0.000000\n",
              "Pocztagl01                 0.003697\n",
              "Rezygnacja                 0.070240\n",
              "Klastry                    8.000000\n",
              "dtype: float64"
            ]
          },
          "metadata": {
            "tags": []
          },
          "execution_count": 18
        }
      ]
    }
  ]
}