{
  "nbformat": 4,
  "nbformat_minor": 0,
  "metadata": {
    "colab": {
      "name": "Project_SebastianKrzosek.ipynb",
      "provenance": [],
      "collapsed_sections": []
    },
    "kernelspec": {
      "name": "python3",
      "display_name": "Python 3"
    },
    "language_info": {
      "name": "python"
    }
  },
  "cells": [
    {
      "cell_type": "code",
      "metadata": {
        "id": "NC6YS58d7NDO",
        "colab": {
          "base_uri": "https://localhost:8080/"
        },
        "outputId": "9b0215f6-fc88-4011-f4a8-f113396e6dea"
      },
      "source": [
        "import numpy as np\n",
        "import pandas as pd\n",
        "import seaborn as sns\n",
        "import statsmodels.api as sm\n",
        "import matplotlib.pyplot as plt\n",
        "from scipy import stats\n",
        "from scipy.stats import shapiro\n",
        "from sklearn.cluster import KMeans\n",
        "from sklearn.metrics import confusion_matrix\n",
        "from sklearn.preprocessing import MinMaxScaler\n",
        "from sklearn.neural_network import MLPRegressor\n",
        "from sklearn.metrics import mean_absolute_error\n",
        "from sklearn.neighbors import KNeighborsClassifier\n",
        "from sklearn.model_selection import train_test_split\n",
        "from statsmodels.stats.stattools import durbin_watson"
      ],
      "execution_count": null,
      "outputs": [
        {
          "output_type": "stream",
          "text": [
            "/usr/local/lib/python3.7/dist-packages/statsmodels/tools/_testing.py:19: FutureWarning: pandas.util.testing is deprecated. Use the functions in the public API at pandas.testing instead.\n",
            "  import pandas.util.testing as tm\n"
          ],
          "name": "stderr"
        }
      ]
    },
    {
      "cell_type": "code",
      "metadata": {
        "colab": {
          "resources": {
            "http://localhost:8080/nbextensions/google.colab/files.js": {
              "data": "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",
              "ok": true,
              "headers": [
                [
                  "content-type",
                  "application/javascript"
                ]
              ],
              "status": 200,
              "status_text": ""
            }
          },
          "base_uri": "https://localhost:8080/",
          "height": 72
        },
        "id": "KaTqT3dj8fkQ",
        "outputId": "3fb6ebe1-f925-4b29-9352-e4995ed35726"
      },
      "source": [
        "from google.colab import files #Wrzucenie pliku csv do colaba\n",
        "uploaded = files.upload()      # otwierajac normalnie plik .py nie trzeba wywolywac"
      ],
      "execution_count": null,
      "outputs": [
        {
          "output_type": "display_data",
          "data": {
            "text/html": [
              "\n",
              "     <input type=\"file\" id=\"files-818cf2ea-1fa1-4e60-a8b4-031265ed539d\" name=\"files[]\" multiple disabled\n",
              "        style=\"border:none\" />\n",
              "     <output id=\"result-818cf2ea-1fa1-4e60-a8b4-031265ed539d\">\n",
              "      Upload widget is only available when the cell has been executed in the\n",
              "      current browser session. Please rerun this cell to enable.\n",
              "      </output>\n",
              "      <script src=\"/nbextensions/google.colab/files.js\"></script> "
            ],
            "text/plain": [
              "<IPython.core.display.HTML object>"
            ]
          },
          "metadata": {
            "tags": []
          }
        },
        {
          "output_type": "stream",
          "text": [
            "Saving winequality-red.csv to winequality-red.csv\n"
          ],
          "name": "stdout"
        }
      ]
    },
    {
      "cell_type": "code",
      "metadata": {
        "id": "WU95--ZS8kiw",
        "colab": {
          "base_uri": "https://localhost:8080/",
          "height": 436
        },
        "outputId": "3772e981-e8cc-49a7-8140-f8abd4d756d2"
      },
      "source": [
        "wine = pd.read_csv(\"./winequality-red.csv\" , sep=\";\" ) #wczytanie bazy win czerwonych\n",
        "wine"
      ],
      "execution_count": null,
      "outputs": [
        {
          "output_type": "execute_result",
          "data": {
            "text/html": [
              "<div>\n",
              "<style scoped>\n",
              "    .dataframe tbody tr th:only-of-type {\n",
              "        vertical-align: middle;\n",
              "    }\n",
              "\n",
              "    .dataframe tbody tr th {\n",
              "        vertical-align: top;\n",
              "    }\n",
              "\n",
              "    .dataframe thead th {\n",
              "        text-align: right;\n",
              "    }\n",
              "</style>\n",
              "<table border=\"1\" class=\"dataframe\">\n",
              "  <thead>\n",
              "    <tr style=\"text-align: right;\">\n",
              "      <th></th>\n",
              "      <th>fixed acidity</th>\n",
              "      <th>volatile acidity</th>\n",
              "      <th>citric acid</th>\n",
              "      <th>residual sugar</th>\n",
              "      <th>chlorides</th>\n",
              "      <th>free sulfur dioxide</th>\n",
              "      <th>total sulfur dioxide</th>\n",
              "      <th>density</th>\n",
              "      <th>pH</th>\n",
              "      <th>sulphates</th>\n",
              "      <th>alcohol</th>\n",
              "      <th>quality</th>\n",
              "    </tr>\n",
              "  </thead>\n",
              "  <tbody>\n",
              "    <tr>\n",
              "      <th>0</th>\n",
              "      <td>7.4</td>\n",
              "      <td>0.700</td>\n",
              "      <td>0.00</td>\n",
              "      <td>1.9</td>\n",
              "      <td>0.076</td>\n",
              "      <td>11.0</td>\n",
              "      <td>34.0</td>\n",
              "      <td>0.99780</td>\n",
              "      <td>3.51</td>\n",
              "      <td>0.56</td>\n",
              "      <td>9.4</td>\n",
              "      <td>5</td>\n",
              "    </tr>\n",
              "    <tr>\n",
              "      <th>1</th>\n",
              "      <td>7.8</td>\n",
              "      <td>0.880</td>\n",
              "      <td>0.00</td>\n",
              "      <td>2.6</td>\n",
              "      <td>0.098</td>\n",
              "      <td>25.0</td>\n",
              "      <td>67.0</td>\n",
              "      <td>0.99680</td>\n",
              "      <td>3.20</td>\n",
              "      <td>0.68</td>\n",
              "      <td>9.8</td>\n",
              "      <td>5</td>\n",
              "    </tr>\n",
              "    <tr>\n",
              "      <th>2</th>\n",
              "      <td>7.8</td>\n",
              "      <td>0.760</td>\n",
              "      <td>0.04</td>\n",
              "      <td>2.3</td>\n",
              "      <td>0.092</td>\n",
              "      <td>15.0</td>\n",
              "      <td>54.0</td>\n",
              "      <td>0.99700</td>\n",
              "      <td>3.26</td>\n",
              "      <td>0.65</td>\n",
              "      <td>9.8</td>\n",
              "      <td>5</td>\n",
              "    </tr>\n",
              "    <tr>\n",
              "      <th>3</th>\n",
              "      <td>11.2</td>\n",
              "      <td>0.280</td>\n",
              "      <td>0.56</td>\n",
              "      <td>1.9</td>\n",
              "      <td>0.075</td>\n",
              "      <td>17.0</td>\n",
              "      <td>60.0</td>\n",
              "      <td>0.99800</td>\n",
              "      <td>3.16</td>\n",
              "      <td>0.58</td>\n",
              "      <td>9.8</td>\n",
              "      <td>6</td>\n",
              "    </tr>\n",
              "    <tr>\n",
              "      <th>4</th>\n",
              "      <td>7.4</td>\n",
              "      <td>0.700</td>\n",
              "      <td>0.00</td>\n",
              "      <td>1.9</td>\n",
              "      <td>0.076</td>\n",
              "      <td>11.0</td>\n",
              "      <td>34.0</td>\n",
              "      <td>0.99780</td>\n",
              "      <td>3.51</td>\n",
              "      <td>0.56</td>\n",
              "      <td>9.4</td>\n",
              "      <td>5</td>\n",
              "    </tr>\n",
              "    <tr>\n",
              "      <th>...</th>\n",
              "      <td>...</td>\n",
              "      <td>...</td>\n",
              "      <td>...</td>\n",
              "      <td>...</td>\n",
              "      <td>...</td>\n",
              "      <td>...</td>\n",
              "      <td>...</td>\n",
              "      <td>...</td>\n",
              "      <td>...</td>\n",
              "      <td>...</td>\n",
              "      <td>...</td>\n",
              "      <td>...</td>\n",
              "    </tr>\n",
              "    <tr>\n",
              "      <th>1594</th>\n",
              "      <td>6.2</td>\n",
              "      <td>0.600</td>\n",
              "      <td>0.08</td>\n",
              "      <td>2.0</td>\n",
              "      <td>0.090</td>\n",
              "      <td>32.0</td>\n",
              "      <td>44.0</td>\n",
              "      <td>0.99490</td>\n",
              "      <td>3.45</td>\n",
              "      <td>0.58</td>\n",
              "      <td>10.5</td>\n",
              "      <td>5</td>\n",
              "    </tr>\n",
              "    <tr>\n",
              "      <th>1595</th>\n",
              "      <td>5.9</td>\n",
              "      <td>0.550</td>\n",
              "      <td>0.10</td>\n",
              "      <td>2.2</td>\n",
              "      <td>0.062</td>\n",
              "      <td>39.0</td>\n",
              "      <td>51.0</td>\n",
              "      <td>0.99512</td>\n",
              "      <td>3.52</td>\n",
              "      <td>0.76</td>\n",
              "      <td>11.2</td>\n",
              "      <td>6</td>\n",
              "    </tr>\n",
              "    <tr>\n",
              "      <th>1596</th>\n",
              "      <td>6.3</td>\n",
              "      <td>0.510</td>\n",
              "      <td>0.13</td>\n",
              "      <td>2.3</td>\n",
              "      <td>0.076</td>\n",
              "      <td>29.0</td>\n",
              "      <td>40.0</td>\n",
              "      <td>0.99574</td>\n",
              "      <td>3.42</td>\n",
              "      <td>0.75</td>\n",
              "      <td>11.0</td>\n",
              "      <td>6</td>\n",
              "    </tr>\n",
              "    <tr>\n",
              "      <th>1597</th>\n",
              "      <td>5.9</td>\n",
              "      <td>0.645</td>\n",
              "      <td>0.12</td>\n",
              "      <td>2.0</td>\n",
              "      <td>0.075</td>\n",
              "      <td>32.0</td>\n",
              "      <td>44.0</td>\n",
              "      <td>0.99547</td>\n",
              "      <td>3.57</td>\n",
              "      <td>0.71</td>\n",
              "      <td>10.2</td>\n",
              "      <td>5</td>\n",
              "    </tr>\n",
              "    <tr>\n",
              "      <th>1598</th>\n",
              "      <td>6.0</td>\n",
              "      <td>0.310</td>\n",
              "      <td>0.47</td>\n",
              "      <td>3.6</td>\n",
              "      <td>0.067</td>\n",
              "      <td>18.0</td>\n",
              "      <td>42.0</td>\n",
              "      <td>0.99549</td>\n",
              "      <td>3.39</td>\n",
              "      <td>0.66</td>\n",
              "      <td>11.0</td>\n",
              "      <td>6</td>\n",
              "    </tr>\n",
              "  </tbody>\n",
              "</table>\n",
              "<p>1599 rows × 12 columns</p>\n",
              "</div>"
            ],
            "text/plain": [
              "      fixed acidity  volatile acidity  citric acid  ...  sulphates  alcohol  quality\n",
              "0               7.4             0.700         0.00  ...       0.56      9.4        5\n",
              "1               7.8             0.880         0.00  ...       0.68      9.8        5\n",
              "2               7.8             0.760         0.04  ...       0.65      9.8        5\n",
              "3              11.2             0.280         0.56  ...       0.58      9.8        6\n",
              "4               7.4             0.700         0.00  ...       0.56      9.4        5\n",
              "...             ...               ...          ...  ...        ...      ...      ...\n",
              "1594            6.2             0.600         0.08  ...       0.58     10.5        5\n",
              "1595            5.9             0.550         0.10  ...       0.76     11.2        6\n",
              "1596            6.3             0.510         0.13  ...       0.75     11.0        6\n",
              "1597            5.9             0.645         0.12  ...       0.71     10.2        5\n",
              "1598            6.0             0.310         0.47  ...       0.66     11.0        6\n",
              "\n",
              "[1599 rows x 12 columns]"
            ]
          },
          "metadata": {
            "tags": []
          },
          "execution_count": 6
        }
      ]
    },
    {
      "cell_type": "code",
      "metadata": {
        "id": "VznsMO3e8sFt"
      },
      "source": [
        "#Sprawdzając poprawność danych, nie zauważyłem żadnych braków bądź niepoprawności. Jedyną rzeczą na która zwróciłem uwagę, \n",
        "#były rozwinięcia okresowe w alcoholu. Postanowiłem zaokrąglić je do 4 miejsc po przecinku.\n",
        "wine['alcohol'] = round(wine[\"alcohol\"], 4)"
      ],
      "execution_count": null,
      "outputs": []
    },
    {
      "cell_type": "code",
      "metadata": {
        "id": "WargW5ja_M7I"
      },
      "source": [
        "#Wybór predyktorów\n",
        "x = wine[[\"fixed acidity\",\"volatile acidity\",\"citric acid\",\"residual sugar\",\"chlorides\",\"free sulfur dioxide\",\"total sulfur dioxide\",\"density\",\"pH\",\"sulphates\",\"alcohol\"]]\n",
        "#oraz zmiennej celu\n",
        "y = wine[['quality']]"
      ],
      "execution_count": null,
      "outputs": []
    },
    {
      "cell_type": "code",
      "metadata": {
        "id": "qXHKZ9aO_axO"
      },
      "source": [
        "#Podział danych na zbiór uczący oraz testowy 70/30 z indeksem jako ziarno generatora liczb pseudolosowych\n",
        "x_train, x_test, y_train, y_test = train_test_split(x, y, test_size=0.3, random_state=300136, stratify=y)"
      ],
      "execution_count": null,
      "outputs": []
    },
    {
      "cell_type": "code",
      "metadata": {
        "colab": {
          "base_uri": "https://localhost:8080/",
          "height": 353
        },
        "id": "TvSx6c_H_wSy",
        "outputId": "ac7aeb75-56fc-42fd-c0fa-2ff293fa96c7"
      },
      "source": [
        "#Stworzenie macierzy korelacji w celu zbadania powiazań miedzy zmiennymi\n",
        "cols = [\"fixed acidity\",\"volatile acidity\",\"citric acid\",\"residual sugar\",\"chlorides\",\"free sulfur dioxide\",\"total sulfur dioxide\",\"density\",\"pH\",\"sulphates\",\"alcohol\"]\n",
        "cm = np.corrcoef(x_train[cols].values.T)\n",
        "hm = sns.heatmap(cm, cbar=True, annot=True, square=True, fmt='.2f', annot_kws={'size': 8}, yticklabels=cols, xticklabels=cols)\n",
        "plt.show()\n",
        "#mozemy zauwazyć, że zmienne nie są ze soba skorelowane, dlatego też jako predyktorów w modelu użyjemy wszyskich.\n",
        "#na tym etapie wydaje mi się, że wszystkie zmienne wpływają w podobnym stopniu na jakość wina. Żadna z nich nie wyróżnia się\n",
        "#natomiast po zaczerpnieciu informacji z internetu, wiem że do klasyfikacji win na wytrawne, półwytrawne, półsłodkie i słodkie\n",
        "#znaczenie będą miały zmienne takie jak zawartość alkoholu, cukier, kwasowosc ogólna (PH), kwasowość lotna"
      ],
      "execution_count": null,
      "outputs": [
        {
          "output_type": "display_data",
          "data": {
            "image/png": "[encoded data removed]",
            "text/plain": [
              "<Figure size 432x288 with 2 Axes>"
            ]
          },
          "metadata": {
            "tags": [],
            "needs_background": "light"
          }
        }
      ]
    },
    {
      "cell_type": "code",
      "metadata": {
        "id": "nnXxao91AOWe"
      },
      "source": [
        "###########################################\n",
        "#                   KNN                   #\n",
        "###########################################"
      ],
      "execution_count": null,
      "outputs": []
    },
    {
      "cell_type": "code",
      "metadata": {
        "id": "2blcLywnMm1e"
      },
      "source": [
        "#Problem klasyfikacji postanowiłem rozwiązać algorytmem KNN\n",
        "#Dokonujemy standaryzacji naszych predyktorow\n",
        "x_train_stand = stats.zscore(x_train)\n",
        "x_test_stand = stats.zscore(x_test)"
      ],
      "execution_count": null,
      "outputs": []
    },
    {
      "cell_type": "code",
      "metadata": {
        "id": "5-lhw0exM3XJ"
      },
      "source": [
        "#a nastepnie uruchamiamy algorytm KNN dla: k=4 używając metryki euklidesowej.\n",
        "knn = KNeighborsClassifier(4, weights='uniform', metric='euclidean')\n",
        "knn.fit(x_train_stand, y_train[\"quality\"])\n",
        "y_predict=knn.predict(x_test_stand)"
      ],
      "execution_count": null,
      "outputs": []
    },
    {
      "cell_type": "code",
      "metadata": {
        "colab": {
          "base_uri": "https://localhost:8080/"
        },
        "id": "RDNNeMolNSre",
        "outputId": "6bd2e35e-edf5-4cf9-81f0-303d4012cc1f"
      },
      "source": [
        "set(wine[\"quality\"])\n",
        "#Mozemy tutaj zauwazyć, że nasze wina przyjmują jedynie oceny jakości z przedziału 3-8 (nie 1-10)"
      ],
      "execution_count": null,
      "outputs": [
        {
          "output_type": "execute_result",
          "data": {
            "text/plain": [
              "{3, 4, 5, 6, 7, 8}"
            ]
          },
          "metadata": {
            "tags": []
          },
          "execution_count": 13
        }
      ]
    },
    {
      "cell_type": "code",
      "metadata": {
        "colab": {
          "base_uri": "https://localhost:8080/"
        },
        "id": "q22yQ41YNh3W",
        "outputId": "afc174a7-5e79-4b93-d15e-36ed82ed266b"
      },
      "source": [
        "#Tworzymy macierz pomyłek\n",
        "conf_matrix=confusion_matrix(y_test,y_predict)\n",
        "summ = 0\n",
        "fullSumm = 0\n",
        "for i in range(6):\n",
        "    for j in  range(6):\n",
        "        if(i == j):\n",
        "            summ += conf_matrix[i][j]\n",
        "        fullSumm += conf_matrix[i][j]\n",
        "\n",
        "print(conf_matrix)\n",
        "print()\n",
        "print(\"Trafność: \" + str(summ) + \"/\" +str(fullSumm)+ \" = \" + str(summ/fullSumm))"
      ],
      "execution_count": null,
      "outputs": [
        {
          "output_type": "stream",
          "text": [
            "[[  0   1   1   1   0   0]\n",
            " [  0   1  12   3   0   0]\n",
            " [  0   4 150  48   2   0]\n",
            " [  0   2  70 101  18   1]\n",
            " [  0   0   6  31  21   2]\n",
            " [  0   0   0   2   3   0]]\n",
            "\n",
            "Trafność: 273/480 = 0.56875\n"
          ],
          "name": "stdout"
        }
      ]
    },
    {
      "cell_type": "code",
      "metadata": {
        "colab": {
          "base_uri": "https://localhost:8080/"
        },
        "id": "V3l6MI1qOdTv",
        "outputId": "b616ccd4-9dcc-4e66-a59c-9ceeec910433"
      },
      "source": [
        "#Tworzymy macierz pomyłek z odstepstwem o jeden\n",
        "summ = 0\n",
        "fullSumm = 0\n",
        "for i in range(6):\n",
        "    for j in  range(6):\n",
        "        if(i == j or (i-1 == j and i > 0) or (i+1 == j and j < 6)):\n",
        "            summ += conf_matrix[i][j]\n",
        "        fullSumm += conf_matrix[i][j]\n",
        "\n",
        "print(conf_matrix)\n",
        "print()\n",
        "print(\"Trafność z odstepstwem o 1: \" + str(summ) + \"/\" +str(fullSumm)+ \" = \" + str(summ/fullSumm))"
      ],
      "execution_count": null,
      "outputs": [
        {
          "output_type": "stream",
          "text": [
            "[[  0   1   1   1   0   0]\n",
            " [  0   1  12   3   0   0]\n",
            " [  0   4 150  48   2   0]\n",
            " [  0   2  70 101  18   1]\n",
            " [  0   0   6  31  21   2]\n",
            " [  0   0   0   2   3   0]]\n",
            "\n",
            "Trafność z odstepstwem o 1: 462/480 = 0.9625\n"
          ],
          "name": "stdout"
        }
      ]
    },
    {
      "cell_type": "code",
      "metadata": {
        "colab": {
          "base_uri": "https://localhost:8080/"
        },
        "id": "geL6zapKO3PY",
        "outputId": "32204438-0a1d-43d6-ebdf-313f095c7b06"
      },
      "source": [
        "print('MAE: ',mean_absolute_error(y_test, y_predict))"
      ],
      "execution_count": null,
      "outputs": [
        {
          "output_type": "stream",
          "text": [
            "MAE:  0.4708333333333333\n"
          ],
          "name": "stdout"
        }
      ]
    },
    {
      "cell_type": "code",
      "metadata": {
        "id": "A_viOaigO-mk"
      },
      "source": [
        "###########################################\n",
        "#                   MLP                   #\n",
        "###########################################"
      ],
      "execution_count": null,
      "outputs": []
    },
    {
      "cell_type": "code",
      "metadata": {
        "id": "JeMR4P6ZPO0X"
      },
      "source": [
        "#Problem szacowania postanowilem rozwiazac poprzez MLP\n",
        "#Standaryzacja Min-Max dla MLP\n",
        "scaler = MinMaxScaler()\n",
        "scaler.fit(x_train)\n",
        "x_train_stand_mlp = scaler.transform(x_train)\n",
        "x_test_stand_mlp = scaler.transform(x_test)\n",
        "\n",
        "scaler2 = MinMaxScaler()\n",
        "scaler2.fit(pd.DataFrame(y_train))\n",
        "y_train_stand_mlp = scaler2.transform(pd.DataFrame(y_train))\n",
        "y_test_stand_mlp = scaler2.transform(pd.DataFrame(y_test))"
      ],
      "execution_count": null,
      "outputs": []
    },
    {
      "cell_type": "code",
      "metadata": {
        "id": "q2ZBIpMZPgGW"
      },
      "source": [
        "#Budowa sieci \n",
        "siec_neur = MLPRegressor(hidden_layer_sizes=(8,), activation='tanh',solver='lbfgs', alpha=0.0001, max_iter=10000, random_state=300136)\n",
        "#Uczenie jej\n",
        "siec_train=siec_neur.fit(x_train_stand_mlp, y_train_stand_mlp.ravel())\n",
        "#Przewidywanie wartości \n",
        "y_predict_mlp = siec_neur.predict(x_test_stand_mlp) "
      ],
      "execution_count": null,
      "outputs": []
    },
    {
      "cell_type": "code",
      "metadata": {
        "id": "NVr2vYN1RG4l"
      },
      "source": [
        "#Dokonujemy denormalizacji zmiennych\n",
        "y_predict_denorm = np.zeros(y_predict_mlp.shape[0]) \n",
        "maximum = max(pd.DataFrame(y_test)[\"quality\"])\n",
        "minimum = min(pd.DataFrame(y_test)[\"quality\"])\n",
        "\n",
        "i=0\n",
        "while i<= (y_predict_mlp.shape[0]-1):\n",
        "      y_predict_denorm[i] = (y_predict_mlp[i]*(maximum-minimum)) + minimum\n",
        "      i+=1"
      ],
      "execution_count": null,
      "outputs": []
    },
    {
      "cell_type": "code",
      "metadata": {
        "colab": {
          "base_uri": "https://localhost:8080/"
        },
        "id": "Et-59flcRwKz",
        "outputId": "9c627b29-1ee6-4e6d-9b18-500dbf86070d"
      },
      "source": [
        "y_predict_denorm_round = np.round(y_predict_denorm)\n",
        "\n",
        "conf_matrix_mlp = confusion_matrix(y_test, y_predict_denorm_round)\n",
        "summ = 0\n",
        "fullSumm = 0\n",
        "for i in range(6):\n",
        "    for j in  range(6):\n",
        "        if(i == j):\n",
        "            summ += conf_matrix_mlp[i][j]\n",
        "        fullSumm += conf_matrix_mlp[i][j]\n",
        "\n",
        "print(conf_matrix_mlp)\n",
        "print()\n",
        "print(\"Trafność : \" + str(summ) + \"/\" +str(fullSumm)+ \" = \" + str(summ/fullSumm))"
      ],
      "execution_count": null,
      "outputs": [
        {
          "output_type": "stream",
          "text": [
            "[[  0   0   3   0   0   0]\n",
            " [  1   0  10   5   0   0]\n",
            " [  0   4 141  56   3   0]\n",
            " [  0   2  55 124  11   0]\n",
            " [  0   0   1  39  20   0]\n",
            " [  0   0   0   1   4   0]]\n",
            "\n",
            "Trafność : 285/480 = 0.59375\n"
          ],
          "name": "stdout"
        }
      ]
    },
    {
      "cell_type": "code",
      "metadata": {
        "colab": {
          "base_uri": "https://localhost:8080/"
        },
        "id": "uN0P-BfhSSou",
        "outputId": "80580c7d-011c-4272-ba36-6e94ab46d60a"
      },
      "source": [
        "summ = 0\n",
        "fullSumm = 0\n",
        "for i in range(6):\n",
        "    for j in  range(6):\n",
        "        if(i == j or (i-1 == j and i > 0) or (i+1 == j and j < 6)):\n",
        "            summ += conf_matrix_mlp[i][j]\n",
        "        fullSumm += conf_matrix_mlp[i][j]\n",
        "\n",
        "print(conf_matrix_mlp)\n",
        "print()\n",
        "print(\"Trafność z odstepstwem o 1: \" + str(summ) + \"/\" +str(fullSumm)+ \" = \" + str(summ/fullSumm))"
      ],
      "execution_count": null,
      "outputs": [
        {
          "output_type": "stream",
          "text": [
            "[[  0   0   3   0   0   0]\n",
            " [  1   0  10   5   0   0]\n",
            " [  0   4 141  56   3   0]\n",
            " [  0   2  55 124  11   0]\n",
            " [  0   0   1  39  20   0]\n",
            " [  0   0   0   1   4   0]]\n",
            "\n",
            "Trafność z odstepstwem o 1: 465/480 = 0.96875\n"
          ],
          "name": "stdout"
        }
      ]
    },
    {
      "cell_type": "code",
      "metadata": {
        "colab": {
          "base_uri": "https://localhost:8080/"
        },
        "id": "-iciLNHGmag9",
        "outputId": "a042ecef-e20e-4c88-fcfa-7b1f96e29f11"
      },
      "source": [
        "print('MAE: ',mean_absolute_error(y_test, y_predict_denorm_round))"
      ],
      "execution_count": null,
      "outputs": [
        {
          "output_type": "stream",
          "text": [
            "MAE:  0.4375\n"
          ],
          "name": "stdout"
        }
      ]
    },
    {
      "cell_type": "code",
      "metadata": {
        "id": "psXybYbZaEXy"
      },
      "source": [
        "###########################################\n",
        "#           Algorytm Centroidów           #\n",
        "#               K-Średnich                #\n",
        "###########################################"
      ],
      "execution_count": null,
      "outputs": []
    },
    {
      "cell_type": "code",
      "metadata": {
        "colab": {
          "base_uri": "https://localhost:8080/",
          "height": 298
        },
        "id": "zjAYeZkQh72y",
        "outputId": "afa48773-c595-43d5-f80c-9d808e5a9b45"
      },
      "source": [
        "#ax = sns.boxplot(data=wine['fixed acidity']) #wykres skrzynkowy\n",
        "wine['fixed acidity'].plot(kind='hist', title='Histogram of fixed acidity') #histogram\n",
        "#histogram prawostronnie skosny, delikatnie przypomina rozkład normalny."
      ],
      "execution_count": null,
      "outputs": [
        {
          "output_type": "execute_result",
          "data": {
            "text/plain": [
              "<matplotlib.axes._subplots.AxesSubplot at 0x7f0e1ea00fd0>"
            ]
          },
          "metadata": {
            "tags": []
          },
          "execution_count": 31
        },
        {
          "output_type": "display_data",
          "data": {
            "image/png": "[encoded data removed]",
            "text/plain": [
              "<Figure size 432x288 with 1 Axes>"
            ]
          },
          "metadata": {
            "tags": [],
            "needs_background": "light"
          }
        }
      ]
    },
    {
      "cell_type": "code",
      "metadata": {
        "colab": {
          "base_uri": "https://localhost:8080/",
          "height": 298
        },
        "id": "9KNyrp9BjTGF",
        "outputId": "379e4c29-60d5-46f2-c559-5afa5ccafc92"
      },
      "source": [
        "wine['volatile acidity'].plot(kind='hist', title='Histogram of volatile acidity') \n",
        "#histogram niesymetryczny"
      ],
      "execution_count": null,
      "outputs": [
        {
          "output_type": "execute_result",
          "data": {
            "text/plain": [
              "<matplotlib.axes._subplots.AxesSubplot at 0x7f0e1e9784d0>"
            ]
          },
          "metadata": {
            "tags": []
          },
          "execution_count": 32
        },
        {
          "output_type": "display_data",
          "data": {
            "image/png": "[encoded data removed]",
            "text/plain": [
              "<Figure size 432x288 with 1 Axes>"
            ]
          },
          "metadata": {
            "tags": [],
            "needs_background": "light"
          }
        }
      ]
    },
    {
      "cell_type": "code",
      "metadata": {
        "colab": {
          "base_uri": "https://localhost:8080/",
          "height": 298
        },
        "id": "MjIIFW0ujkxA",
        "outputId": "ac10d6ea-01fd-485b-a622-abe41fada190"
      },
      "source": [
        "wine['citric acid'].plot(kind='hist', title='Histogram of citric acid') \n",
        "#histogram niesymetryczny"
      ],
      "execution_count": null,
      "outputs": [
        {
          "output_type": "execute_result",
          "data": {
            "text/plain": [
              "<matplotlib.axes._subplots.AxesSubplot at 0x7f0e1e8b5950>"
            ]
          },
          "metadata": {
            "tags": []
          },
          "execution_count": 33
        },
        {
          "output_type": "display_data",
          "data": {
            "image/png": "[encoded data removed]",
            "text/plain": [
              "<Figure size 432x288 with 1 Axes>"
            ]
          },
          "metadata": {
            "tags": [],
            "needs_background": "light"
          }
        }
      ]
    },
    {
      "cell_type": "code",
      "metadata": {
        "colab": {
          "base_uri": "https://localhost:8080/",
          "height": 298
        },
        "id": "_SwNgTEBr0An",
        "outputId": "801a906e-180f-4cee-c65a-227a8d76a03e"
      },
      "source": [
        "wine['residual sugar'].plot(kind='hist', title='residual sugar') \n",
        "#histogram mocno prawostronnie skośny"
      ],
      "execution_count": null,
      "outputs": [
        {
          "output_type": "execute_result",
          "data": {
            "text/plain": [
              "<matplotlib.axes._subplots.AxesSubplot at 0x7f0e1e836890>"
            ]
          },
          "metadata": {
            "tags": []
          },
          "execution_count": 34
        },
        {
          "output_type": "display_data",
          "data": {
            "image/png": "[encoded data removed]",
            "text/plain": [
              "<Figure size 432x288 with 1 Axes>"
            ]
          },
          "metadata": {
            "tags": [],
            "needs_background": "light"
          }
        }
      ]
    },
    {
      "cell_type": "code",
      "metadata": {
        "colab": {
          "base_uri": "https://localhost:8080/",
          "height": 298
        },
        "id": "H4GijQOaj8pt",
        "outputId": "3f8a18fe-015f-450b-fa7f-51b77e32edbd"
      },
      "source": [
        "wine['chlorides'].plot(kind='hist', title='Histogram of chlorides') \n",
        "#histogram mocno prawostronnie skośny"
      ],
      "execution_count": null,
      "outputs": [
        {
          "output_type": "execute_result",
          "data": {
            "text/plain": [
              "<matplotlib.axes._subplots.AxesSubplot at 0x7f0e1e8a4ed0>"
            ]
          },
          "metadata": {
            "tags": []
          },
          "execution_count": 35
        },
        {
          "output_type": "display_data",
          "data": {
            "image/png": "[encoded data removed]",
            "text/plain": [
              "<Figure size 432x288 with 1 Axes>"
            ]
          },
          "metadata": {
            "tags": [],
            "needs_background": "light"
          }
        }
      ]
    },
    {
      "cell_type": "code",
      "metadata": {
        "colab": {
          "base_uri": "https://localhost:8080/",
          "height": 298
        },
        "id": "2n_4OxWmkKzc",
        "outputId": "4acf7b04-f3f4-459a-e468-bf07c2dcaeb2"
      },
      "source": [
        "wine['free sulfur dioxide'].plot(kind='hist', title='Histogram of free sulfur dioxide') \n",
        "#histogram niesymetryczny - prawostronnie skośny"
      ],
      "execution_count": null,
      "outputs": [
        {
          "output_type": "execute_result",
          "data": {
            "text/plain": [
              "<matplotlib.axes._subplots.AxesSubplot at 0x7f0e1eaca850>"
            ]
          },
          "metadata": {
            "tags": []
          },
          "execution_count": 36
        },
        {
          "output_type": "display_data",
          "data": {
            "image/png": "[encoded data removed]",
            "text/plain": [
              "<Figure size 432x288 with 1 Axes>"
            ]
          },
          "metadata": {
            "tags": [],
            "needs_background": "light"
          }
        }
      ]
    },
    {
      "cell_type": "code",
      "metadata": {
        "colab": {
          "base_uri": "https://localhost:8080/",
          "height": 298
        },
        "id": "GRH5JaB-kSUA",
        "outputId": "b903e560-0892-4b91-b4ca-2ef96440b34c"
      },
      "source": [
        "wine['total sulfur dioxide'].plot(kind='hist', title='Histogram of total sulfur dioxide') \n",
        "#histogram niesymetryczny - prawostronnie skośny"
      ],
      "execution_count": null,
      "outputs": [
        {
          "output_type": "execute_result",
          "data": {
            "text/plain": [
              "<matplotlib.axes._subplots.AxesSubplot at 0x7f0e28d31a50>"
            ]
          },
          "metadata": {
            "tags": []
          },
          "execution_count": 37
        },
        {
          "output_type": "display_data",
          "data": {
            "image/png": "[encoded data removed]",
            "text/plain": [
              "<Figure size 432x288 with 1 Axes>"
            ]
          },
          "metadata": {
            "tags": [],
            "needs_background": "light"
          }
        }
      ]
    },
    {
      "cell_type": "code",
      "metadata": {
        "colab": {
          "base_uri": "https://localhost:8080/",
          "height": 298
        },
        "id": "a4XkWUbPkbjs",
        "outputId": "78b364fb-5fef-4820-a7aa-98a783f7d6c1"
      },
      "source": [
        "wine['density'].plot(kind='hist', title='Histogram of density') \n",
        "#histogram symetryczny, rozklad zblizony do normalnego"
      ],
      "execution_count": null,
      "outputs": [
        {
          "output_type": "execute_result",
          "data": {
            "text/plain": [
              "<matplotlib.axes._subplots.AxesSubplot at 0x7f0e1e7c20d0>"
            ]
          },
          "metadata": {
            "tags": []
          },
          "execution_count": 38
        },
        {
          "output_type": "display_data",
          "data": {
            "image/png": "[encoded data removed]",
            "text/plain": [
              "<Figure size 432x288 with 1 Axes>"
            ]
          },
          "metadata": {
            "tags": [],
            "needs_background": "light"
          }
        }
      ]
    },
    {
      "cell_type": "code",
      "metadata": {
        "colab": {
          "base_uri": "https://localhost:8080/",
          "height": 298
        },
        "id": "rUoixSRJkkAY",
        "outputId": "6e338055-f13e-4ce1-b475-05efce90d9e8"
      },
      "source": [
        "wine['pH'].plot(kind='hist', title='Histogram of pH') \n",
        "#histogram symetryczny, na pierwszy rzut oka wyglada idealnie - rozklad zblizony do normalnego"
      ],
      "execution_count": null,
      "outputs": [
        {
          "output_type": "execute_result",
          "data": {
            "text/plain": [
              "<matplotlib.axes._subplots.AxesSubplot at 0x7f0e1e6d2890>"
            ]
          },
          "metadata": {
            "tags": []
          },
          "execution_count": 39
        },
        {
          "output_type": "display_data",
          "data": {
            "image/png": "[encoded data removed]",
            "text/plain": [
              "<Figure size 432x288 with 1 Axes>"
            ]
          },
          "metadata": {
            "tags": [],
            "needs_background": "light"
          }
        }
      ]
    },
    {
      "cell_type": "code",
      "metadata": {
        "colab": {
          "base_uri": "https://localhost:8080/",
          "height": 298
        },
        "id": "ZD8XuNwqkvgs",
        "outputId": "8c1b946b-1613-4a33-f54d-56603f48b5df"
      },
      "source": [
        "wine['sulphates'].plot(kind='hist', title='Histogram of sulphates') \n",
        "#histogram niesymetryczny - prawostronnie skośny"
      ],
      "execution_count": null,
      "outputs": [
        {
          "output_type": "execute_result",
          "data": {
            "text/plain": [
              "<matplotlib.axes._subplots.AxesSubplot at 0x7f0e1e6ce150>"
            ]
          },
          "metadata": {
            "tags": []
          },
          "execution_count": 40
        },
        {
          "output_type": "display_data",
          "data": {
            "image/png": "[encoded data removed]",
            "text/plain": [
              "<Figure size 432x288 with 1 Axes>"
            ]
          },
          "metadata": {
            "tags": [],
            "needs_background": "light"
          }
        }
      ]
    },
    {
      "cell_type": "code",
      "metadata": {
        "colab": {
          "base_uri": "https://localhost:8080/",
          "height": 298
        },
        "id": "tbOPmGNlkF5X",
        "outputId": "c847fdb3-209b-476c-8887-fa16d8c20c75"
      },
      "source": [
        "wine['alcohol'].plot(kind='hist', title='Histogram of alcohol') \n",
        "#histogram niesymetryczny - prawostronnie skośny"
      ],
      "execution_count": null,
      "outputs": [
        {
          "output_type": "execute_result",
          "data": {
            "text/plain": [
              "<matplotlib.axes._subplots.AxesSubplot at 0x7f0e3e587490>"
            ]
          },
          "metadata": {
            "tags": []
          },
          "execution_count": 41
        },
        {
          "output_type": "display_data",
          "data": {
            "image/png": "[encoded data removed]",
            "text/plain": [
              "<Figure size 432x288 with 1 Axes>"
            ]
          },
          "metadata": {
            "tags": [],
            "needs_background": "light"
          }
        }
      ]
    },
    {
      "cell_type": "code",
      "metadata": {
        "id": "hBwN5hEMlO7c"
      },
      "source": [
        "#operacje na zmiennych \n",
        "wine_k_means = wine.copy()\n",
        "wine_k_means[cols]=stats.zscore(np.log(wine_k_means[cols]+1))  # ln(x) + 1"
      ],
      "execution_count": null,
      "outputs": []
    },
    {
      "cell_type": "code",
      "metadata": {
        "colab": {
          "base_uri": "https://localhost:8080/",
          "height": 298
        },
        "id": "-kT3c7s9s2In",
        "outputId": "2e10821b-0b3c-41c2-ecfd-56c9563bf2a4"
      },
      "source": [
        "wine_k_means['fixed acidity'].plot(kind='hist', title='Histogram of fixed acidity') \n",
        "#histogram wciąż prawostronnie skosny, bardziej niż poprzedni przypomina rozkład normalny."
      ],
      "execution_count": null,
      "outputs": [
        {
          "output_type": "execute_result",
          "data": {
            "text/plain": [
              "<matplotlib.axes._subplots.AxesSubplot at 0x7f0e1e57aa10>"
            ]
          },
          "metadata": {
            "tags": []
          },
          "execution_count": 43
        },
        {
          "output_type": "display_data",
          "data": {
            "image/png": "[encoded data removed]",
            "text/plain": [
              "<Figure size 432x288 with 1 Axes>"
            ]
          },
          "metadata": {
            "tags": [],
            "needs_background": "light"
          }
        }
      ]
    },
    {
      "cell_type": "code",
      "metadata": {
        "colab": {
          "base_uri": "https://localhost:8080/",
          "height": 298
        },
        "id": "-OphLx2DtPml",
        "outputId": "4fdddbb6-bad1-49ce-f78d-1d9bd0bffa09"
      },
      "source": [
        "wine_k_means['volatile acidity'].plot(kind='hist', title='Histogram of volatile acidity')\n",
        "#histogram wciaz niesymetryczny, aczkolwiek mniej"
      ],
      "execution_count": null,
      "outputs": [
        {
          "output_type": "execute_result",
          "data": {
            "text/plain": [
              "<matplotlib.axes._subplots.AxesSubplot at 0x7f0e1e49ca10>"
            ]
          },
          "metadata": {
            "tags": []
          },
          "execution_count": 44
        },
        {
          "output_type": "display_data",
          "data": {
            "image/png": "[encoded data removed]",
            "text/plain": [
              "<Figure size 432x288 with 1 Axes>"
            ]
          },
          "metadata": {
            "tags": [],
            "needs_background": "light"
          }
        }
      ]
    },
    {
      "cell_type": "code",
      "metadata": {
        "colab": {
          "base_uri": "https://localhost:8080/",
          "height": 298
        },
        "id": "QtznOvCOuGYu",
        "outputId": "5588c169-db6a-40a4-94bb-448b12e49b4f"
      },
      "source": [
        "wine_k_means['citric acid'].plot(kind='hist', title='Histogram of citric acid')\n",
        "#histogram wciaz niesymetryczny, aczkolwiek mniej - widac poprawe"
      ],
      "execution_count": null,
      "outputs": [
        {
          "output_type": "execute_result",
          "data": {
            "text/plain": [
              "<matplotlib.axes._subplots.AxesSubplot at 0x7f0e1e48f310>"
            ]
          },
          "metadata": {
            "tags": []
          },
          "execution_count": 45
        },
        {
          "output_type": "display_data",
          "data": {
            "image/png": "[encoded data removed]",
            "text/plain": [
              "<Figure size 432x288 with 1 Axes>"
            ]
          },
          "metadata": {
            "tags": [],
            "needs_background": "light"
          }
        }
      ]
    },
    {
      "cell_type": "code",
      "metadata": {
        "colab": {
          "base_uri": "https://localhost:8080/",
          "height": 298
        },
        "id": "DnAxDqazuTG6",
        "outputId": "06ea5c7c-c160-4c12-bce1-a790d6252d06"
      },
      "source": [
        "wine_k_means['residual sugar'].plot(kind='hist', title='residual sugar') \n",
        "#histogram wciąż mocno prawostronnie skośny"
      ],
      "execution_count": null,
      "outputs": [
        {
          "output_type": "execute_result",
          "data": {
            "text/plain": [
              "<matplotlib.axes._subplots.AxesSubplot at 0x7f0e1e392b90>"
            ]
          },
          "metadata": {
            "tags": []
          },
          "execution_count": 46
        },
        {
          "output_type": "display_data",
          "data": {
            "image/png": "[encoded data removed]",
            "text/plain": [
              "<Figure size 432x288 with 1 Axes>"
            ]
          },
          "metadata": {
            "tags": [],
            "needs_background": "light"
          }
        }
      ]
    },
    {
      "cell_type": "code",
      "metadata": {
        "colab": {
          "base_uri": "https://localhost:8080/",
          "height": 298
        },
        "id": "BHKbLsSUufoB",
        "outputId": "aaa9ba25-a120-4000-e62f-dcffdc1d1458"
      },
      "source": [
        "wine_k_means['chlorides'].plot(kind='hist', title='chlorides') \n",
        "#histogram sie poprawil, aczkolwiek delikatnie prawostronnie skosny "
      ],
      "execution_count": null,
      "outputs": [
        {
          "output_type": "execute_result",
          "data": {
            "text/plain": [
              "<matplotlib.axes._subplots.AxesSubplot at 0x7f0e1e315c10>"
            ]
          },
          "metadata": {
            "tags": []
          },
          "execution_count": 47
        },
        {
          "output_type": "display_data",
          "data": {
            "image/png": "[encoded data removed]",
            "text/plain": [
              "<Figure size 432x288 with 1 Axes>"
            ]
          },
          "metadata": {
            "tags": [],
            "needs_background": "light"
          }
        }
      ]
    },
    {
      "cell_type": "code",
      "metadata": {
        "colab": {
          "base_uri": "https://localhost:8080/",
          "height": 298
        },
        "id": "HO7w70ssu-0L",
        "outputId": "d1121ca9-ffac-41f4-e21e-078a2d47f771"
      },
      "source": [
        "wine_k_means['free sulfur dioxide'].plot(kind='hist', title='Histogram of free sulfur dioxide') \n",
        "#poprawa"
      ],
      "execution_count": null,
      "outputs": [
        {
          "output_type": "execute_result",
          "data": {
            "text/plain": [
              "<matplotlib.axes._subplots.AxesSubplot at 0x7f0e1e315490>"
            ]
          },
          "metadata": {
            "tags": []
          },
          "execution_count": 48
        },
        {
          "output_type": "display_data",
          "data": {
            "image/png": "[encoded data removed]",
            "text/plain": [
              "<Figure size 432x288 with 1 Axes>"
            ]
          },
          "metadata": {
            "tags": [],
            "needs_background": "light"
          }
        }
      ]
    },
    {
      "cell_type": "code",
      "metadata": {
        "colab": {
          "base_uri": "https://localhost:8080/",
          "height": 298
        },
        "id": "-TQPTWWavLxD",
        "outputId": "8955baf5-f23e-4131-b629-ad075b0b6e97"
      },
      "source": [
        "wine_k_means['total sulfur dioxide'].plot(kind='hist', title='Histogram of total sulfur dioxide') \n",
        "#piekna poprawa - histogram niemalże idealny"
      ],
      "execution_count": null,
      "outputs": [
        {
          "output_type": "execute_result",
          "data": {
            "text/plain": [
              "<matplotlib.axes._subplots.AxesSubplot at 0x7f0e1e22a990>"
            ]
          },
          "metadata": {
            "tags": []
          },
          "execution_count": 49
        },
        {
          "output_type": "display_data",
          "data": {
            "image/png": "[encoded data removed]",
            "text/plain": [
              "<Figure size 432x288 with 1 Axes>"
            ]
          },
          "metadata": {
            "tags": [],
            "needs_background": "light"
          }
        }
      ]
    },
    {
      "cell_type": "code",
      "metadata": {
        "colab": {
          "base_uri": "https://localhost:8080/",
          "height": 298
        },
        "id": "Bw6wuf-vve_j",
        "outputId": "b1b65b2f-d36b-446c-8200-9801798eb805"
      },
      "source": [
        "wine_k_means['density'].plot(kind='hist', title='Histogram of density')\n",
        "#Ladny histogram zblizony do rozkladu normalnego "
      ],
      "execution_count": null,
      "outputs": [
        {
          "output_type": "execute_result",
          "data": {
            "text/plain": [
              "<matplotlib.axes._subplots.AxesSubplot at 0x7f0e1e646190>"
            ]
          },
          "metadata": {
            "tags": []
          },
          "execution_count": 50
        },
        {
          "output_type": "display_data",
          "data": {
            "image/png": "[encoded data removed]",
            "text/plain": [
              "<Figure size 432x288 with 1 Axes>"
            ]
          },
          "metadata": {
            "tags": [],
            "needs_background": "light"
          }
        }
      ]
    },
    {
      "cell_type": "code",
      "metadata": {
        "colab": {
          "base_uri": "https://localhost:8080/",
          "height": 298
        },
        "id": "CdSW8mqtv30a",
        "outputId": "5ee09a9d-2ad7-4594-9f0f-bd3c62413db7"
      },
      "source": [
        "wine_k_means['pH'].plot(kind='hist', title='Histogram of pH')\n",
        "#Histogram zblizony do rozkladu normalnego"
      ],
      "execution_count": null,
      "outputs": [
        {
          "output_type": "execute_result",
          "data": {
            "text/plain": [
              "<matplotlib.axes._subplots.AxesSubplot at 0x7f0e1e5b08d0>"
            ]
          },
          "metadata": {
            "tags": []
          },
          "execution_count": 51
        },
        {
          "output_type": "display_data",
          "data": {
            "image/png": "[encoded data removed]",
            "text/plain": [
              "<Figure size 432x288 with 1 Axes>"
            ]
          },
          "metadata": {
            "tags": [],
            "needs_background": "light"
          }
        }
      ]
    },
    {
      "cell_type": "code",
      "metadata": {
        "colab": {
          "base_uri": "https://localhost:8080/",
          "height": 298
        },
        "id": "ZV-CuHkSv-qJ",
        "outputId": "2691d1e8-8016-4d05-f433-3965d4c00b84"
      },
      "source": [
        "wine_k_means['sulphates'].plot(kind='hist', title='Histogram of sulphates')\n",
        "#Wyraźna poprawa, delikatnie prawostronnie skośny"
      ],
      "execution_count": null,
      "outputs": [
        {
          "output_type": "execute_result",
          "data": {
            "text/plain": [
              "<matplotlib.axes._subplots.AxesSubplot at 0x7f0e1e059350>"
            ]
          },
          "metadata": {
            "tags": []
          },
          "execution_count": 53
        },
        {
          "output_type": "display_data",
          "data": {
            "image/png": "[encoded data removed]",
            "text/plain": [
              "<Figure size 432x288 with 1 Axes>"
            ]
          },
          "metadata": {
            "tags": [],
            "needs_background": "light"
          }
        }
      ]
    },
    {
      "cell_type": "code",
      "metadata": {
        "colab": {
          "base_uri": "https://localhost:8080/",
          "height": 298
        },
        "id": "zoTX_E0VwKyJ",
        "outputId": "ccee2e46-29a4-4d3c-978d-fb8ce1246a4f"
      },
      "source": [
        "wine_k_means['alcohol'].plot(kind='hist', title='Histogram of alcohol')\n",
        "#poprawa - wciaz nie przypomina rozkladu normalnego (prawostronnie skośny)"
      ],
      "execution_count": null,
      "outputs": [
        {
          "output_type": "execute_result",
          "data": {
            "text/plain": [
              "<matplotlib.axes._subplots.AxesSubplot at 0x7f0e1e093490>"
            ]
          },
          "metadata": {
            "tags": []
          },
          "execution_count": 52
        },
        {
          "output_type": "display_data",
          "data": {
            "image/png": "[encoded data removed]",
            "text/plain": [
              "<Figure size 432x288 with 1 Axes>"
            ]
          },
          "metadata": {
            "tags": [],
            "needs_background": "light"
          }
        }
      ]
    },
    {
      "cell_type": "code",
      "metadata": {
        "id": "l6_mIUlisxT5"
      },
      "source": [
        "#Algorytm K-Średnich dla 3 klastrów z moim indeksem jako ziarno generatora liczb pseudolosowych (przy podziale na 4 klastry jeden jest bardzo nieliczny)\n",
        "km = KMeans(n_clusters=3, init='random', n_init=10, max_iter=300, tol=1e-04, random_state=300136)\n",
        "\n",
        "kmeans=km.fit(wine_k_means[cols])\n",
        "cluster=kmeans.labels_\n",
        "Cluster0 = wine_k_means[cols].loc[cluster == 0]\n",
        "Cluster1 = wine_k_means[cols].loc[cluster == 1]\n",
        "Cluster2 = wine_k_means[cols].loc[cluster == 2]\n",
        "\n",
        "opis1 = Cluster0.describe()\n",
        "opis2 = Cluster1.describe()\n",
        "opis3 = Cluster2.describe()\n"
      ],
      "execution_count": null,
      "outputs": []
    },
    {
      "cell_type": "code",
      "metadata": {
        "colab": {
          "base_uri": "https://localhost:8080/",
          "height": 314
        },
        "id": "HE_UG-F4Ta6U",
        "outputId": "107044bc-fd9f-4630-be65-1637ac87c07e"
      },
      "source": [
        "opis1\n",
        "#Wina wytrawne ze wzgledu na najniższa zawartość tlenków siarki, siarczanów i cukru.\n",
        "#bardzo liczny - 576 obserwacji\n",
        "#stała kwasowość poniżej sredniej\n",
        "#lotna kwasowość powyżej sredniej\n",
        "#kwas cytrynowy poniżej sredniej\n",
        "#cukier resztkowy  poniżej sredniej\n",
        "#chlorki ponizej sredniej\n",
        "#wolny dwutlenek siarki poniżej sredniej\n",
        "#całkowity dwutlenek siarki poniżej sredniej\n",
        "#gęstość poniżej sredniej\n",
        "#pH powyżej sredniej\n",
        "#siarczany poniżej sredniej\n",
        "#alkohol powyżej sredniej"
      ],
      "execution_count": null,
      "outputs": [
        {
          "output_type": "execute_result",
          "data": {
            "text/html": [
              "<div>\n",
              "<style scoped>\n",
              "    .dataframe tbody tr th:only-of-type {\n",
              "        vertical-align: middle;\n",
              "    }\n",
              "\n",
              "    .dataframe tbody tr th {\n",
              "        vertical-align: top;\n",
              "    }\n",
              "\n",
              "    .dataframe thead th {\n",
              "        text-align: right;\n",
              "    }\n",
              "</style>\n",
              "<table border=\"1\" class=\"dataframe\">\n",
              "  <thead>\n",
              "    <tr style=\"text-align: right;\">\n",
              "      <th></th>\n",
              "      <th>fixed acidity</th>\n",
              "      <th>volatile acidity</th>\n",
              "      <th>citric acid</th>\n",
              "      <th>residual sugar</th>\n",
              "      <th>chlorides</th>\n",
              "      <th>free sulfur dioxide</th>\n",
              "      <th>total sulfur dioxide</th>\n",
              "      <th>density</th>\n",
              "      <th>pH</th>\n",
              "      <th>sulphates</th>\n",
              "      <th>alcohol</th>\n",
              "    </tr>\n",
              "  </thead>\n",
              "  <tbody>\n",
              "    <tr>\n",
              "      <th>count</th>\n",
              "      <td>576.000000</td>\n",
              "      <td>576.000000</td>\n",
              "      <td>576.000000</td>\n",
              "      <td>576.000000</td>\n",
              "      <td>576.000000</td>\n",
              "      <td>576.000000</td>\n",
              "      <td>576.000000</td>\n",
              "      <td>576.000000</td>\n",
              "      <td>576.000000</td>\n",
              "      <td>576.000000</td>\n",
              "      <td>576.000000</td>\n",
              "    </tr>\n",
              "    <tr>\n",
              "      <th>mean</th>\n",
              "      <td>-0.764147</td>\n",
              "      <td>0.543017</td>\n",
              "      <td>-0.878656</td>\n",
              "      <td>-0.290831</td>\n",
              "      <td>-0.215961</td>\n",
              "      <td>-0.269841</td>\n",
              "      <td>-0.454336</td>\n",
              "      <td>-0.579722</td>\n",
              "      <td>0.701650</td>\n",
              "      <td>-0.319215</td>\n",
              "      <td>0.193944</td>\n",
              "    </tr>\n",
              "    <tr>\n",
              "      <th>std</th>\n",
              "      <td>0.614912</td>\n",
              "      <td>0.904520</td>\n",
              "      <td>0.619745</td>\n",
              "      <td>0.696647</td>\n",
              "      <td>0.550839</td>\n",
              "      <td>0.881336</td>\n",
              "      <td>0.771260</td>\n",
              "      <td>0.843097</td>\n",
              "      <td>0.825302</td>\n",
              "      <td>0.729159</td>\n",
              "      <td>1.039419</td>\n",
              "    </tr>\n",
              "    <tr>\n",
              "      <th>min</th>\n",
              "      <td>-2.769397</td>\n",
              "      <td>-2.339214</td>\n",
              "      <td>-1.497274</td>\n",
              "      <td>-1.592065</td>\n",
              "      <td>-1.272557</td>\n",
              "      <td>-2.008867</td>\n",
              "      <td>-2.279303</td>\n",
              "      <td>-3.475170</td>\n",
              "      <td>-1.523412</td>\n",
              "      <td>-2.304047</td>\n",
              "      <td>-1.425495</td>\n",
              "    </tr>\n",
              "    <tr>\n",
              "      <th>25%</th>\n",
              "      <td>-1.054196</td>\n",
              "      <td>-0.044068</td>\n",
              "      <td>-1.431973</td>\n",
              "      <td>-0.698491</td>\n",
              "      <td>-0.490632</td>\n",
              "      <td>-0.897333</td>\n",
              "      <td>-1.011650</td>\n",
              "      <td>-1.074275</td>\n",
              "      <td>0.204696</td>\n",
              "      <td>-0.739474</td>\n",
              "      <td>-0.677107</td>\n",
              "    </tr>\n",
              "    <tr>\n",
              "      <th>50%</th>\n",
              "      <td>-0.696331</td>\n",
              "      <td>0.514070</td>\n",
              "      <td>-1.053247</td>\n",
              "      <td>-0.442852</td>\n",
              "      <td>-0.251089</td>\n",
              "      <td>-0.247127</td>\n",
              "      <td>-0.391953</td>\n",
              "      <td>-0.527930</td>\n",
              "      <td>0.588773</td>\n",
              "      <td>-0.398482</td>\n",
              "      <td>0.023839</td>\n",
              "    </tr>\n",
              "    <tr>\n",
              "      <th>75%</th>\n",
              "      <td>-0.359909</td>\n",
              "      <td>1.013077</td>\n",
              "      <td>-0.466898</td>\n",
              "      <td>-0.089701</td>\n",
              "      <td>-0.061052</td>\n",
              "      <td>0.311420</td>\n",
              "      <td>0.042224</td>\n",
              "      <td>0.012833</td>\n",
              "      <td>1.217410</td>\n",
              "      <td>0.061312</td>\n",
              "      <td>0.864336</td>\n",
              "    </tr>\n",
              "    <tr>\n",
              "      <th>max</th>\n",
              "      <td>0.761234</td>\n",
              "      <td>4.618472</td>\n",
              "      <td>1.828842</td>\n",
              "      <td>3.544551</td>\n",
              "      <td>3.940962</td>\n",
              "      <td>2.073160</td>\n",
              "      <td>1.521305</td>\n",
              "      <td>1.405880</td>\n",
              "      <td>4.220567</td>\n",
              "      <td>2.468416</td>\n",
              "      <td>3.059447</td>\n",
              "    </tr>\n",
              "  </tbody>\n",
              "</table>\n",
              "</div>"
            ],
            "text/plain": [
              "       fixed acidity  volatile acidity  ...   sulphates     alcohol\n",
              "count     576.000000        576.000000  ...  576.000000  576.000000\n",
              "mean       -0.764147          0.543017  ...   -0.319215    0.193944\n",
              "std         0.614912          0.904520  ...    0.729159    1.039419\n",
              "min        -2.769397         -2.339214  ...   -2.304047   -1.425495\n",
              "25%        -1.054196         -0.044068  ...   -0.739474   -0.677107\n",
              "50%        -0.696331          0.514070  ...   -0.398482    0.023839\n",
              "75%        -0.359909          1.013077  ...    0.061312    0.864336\n",
              "max         0.761234          4.618472  ...    2.468416    3.059447\n",
              "\n",
              "[8 rows x 11 columns]"
            ]
          },
          "metadata": {
            "tags": []
          },
          "execution_count": 102
        }
      ]
    },
    {
      "cell_type": "code",
      "metadata": {
        "colab": {
          "base_uri": "https://localhost:8080/",
          "height": 314
        },
        "id": "TzZAbXn0UGSH",
        "outputId": "d9e38558-d079-4899-a283-9c3fc8bdf8a1"
      },
      "source": [
        "opis2\n",
        "#PółSlodkie ze wzgledu na wysoka ilosc siarczanu i srednia zawartość cukru.\n",
        "#rownież liczny zbiór 476 obserwacji\n",
        "#stała kwasowość  powazej sredniej\n",
        "#lotna kwasowość poniżej średniej\n",
        "#kwas cytrynowy powyżej sredniej\n",
        "#cukier resztkowy poniżej sredniej\n",
        "#chlorki ponizej poniżej sredniej\n",
        "#wolny dwutlenek siarki poniżej sredniej\n",
        "#całkowity dwutlenek siarki poniżej sredniej\n",
        "#gęstość delikatnie powyżej sredniej\n",
        "#pH zdecydowanie poniżej sredniej\n",
        "#siarczany delikatnie powyżej sredniej\n",
        "#alkohol delikatnie powyżej sredniej"
      ],
      "execution_count": null,
      "outputs": [
        {
          "output_type": "execute_result",
          "data": {
            "text/html": [
              "<div>\n",
              "<style scoped>\n",
              "    .dataframe tbody tr th:only-of-type {\n",
              "        vertical-align: middle;\n",
              "    }\n",
              "\n",
              "    .dataframe tbody tr th {\n",
              "        vertical-align: top;\n",
              "    }\n",
              "\n",
              "    .dataframe thead th {\n",
              "        text-align: right;\n",
              "    }\n",
              "</style>\n",
              "<table border=\"1\" class=\"dataframe\">\n",
              "  <thead>\n",
              "    <tr style=\"text-align: right;\">\n",
              "      <th></th>\n",
              "      <th>fixed acidity</th>\n",
              "      <th>volatile acidity</th>\n",
              "      <th>citric acid</th>\n",
              "      <th>residual sugar</th>\n",
              "      <th>chlorides</th>\n",
              "      <th>free sulfur dioxide</th>\n",
              "      <th>total sulfur dioxide</th>\n",
              "      <th>density</th>\n",
              "      <th>pH</th>\n",
              "      <th>sulphates</th>\n",
              "      <th>alcohol</th>\n",
              "    </tr>\n",
              "  </thead>\n",
              "  <tbody>\n",
              "    <tr>\n",
              "      <th>count</th>\n",
              "      <td>476.000000</td>\n",
              "      <td>476.000000</td>\n",
              "      <td>476.000000</td>\n",
              "      <td>476.000000</td>\n",
              "      <td>476.000000</td>\n",
              "      <td>476.000000</td>\n",
              "      <td>476.000000</td>\n",
              "      <td>476.000000</td>\n",
              "      <td>476.000000</td>\n",
              "      <td>476.000000</td>\n",
              "      <td>476.000000</td>\n",
              "    </tr>\n",
              "    <tr>\n",
              "      <th>mean</th>\n",
              "      <td>1.025600</td>\n",
              "      <td>-0.694755</td>\n",
              "      <td>1.011611</td>\n",
              "      <td>0.075838</td>\n",
              "      <td>0.300982</td>\n",
              "      <td>-0.595404</td>\n",
              "      <td>-0.558698</td>\n",
              "      <td>0.451202</td>\n",
              "      <td>-0.807030</td>\n",
              "      <td>0.557607</td>\n",
              "      <td>0.285145</td>\n",
              "    </tr>\n",
              "    <tr>\n",
              "      <th>std</th>\n",
              "      <td>0.813643</td>\n",
              "      <td>0.768397</td>\n",
              "      <td>0.572000</td>\n",
              "      <td>0.980189</td>\n",
              "      <td>1.585854</td>\n",
              "      <td>0.847812</td>\n",
              "      <td>0.803917</td>\n",
              "      <td>0.997740</td>\n",
              "      <td>0.790849</td>\n",
              "      <td>1.186172</td>\n",
              "      <td>1.015434</td>\n",
              "    </tr>\n",
              "    <tr>\n",
              "      <th>min</th>\n",
              "      <td>-1.203981</td>\n",
              "      <td>-2.644648</td>\n",
              "      <td>-0.812386</td>\n",
              "      <td>-1.427358</td>\n",
              "      <td>-1.173503</td>\n",
              "      <td>-3.120402</td>\n",
              "      <td>-2.474994</td>\n",
              "      <td>-1.774859</td>\n",
              "      <td>-3.957395</td>\n",
              "      <td>-1.605257</td>\n",
              "      <td>-2.109913</td>\n",
              "    </tr>\n",
              "    <tr>\n",
              "      <th>25%</th>\n",
              "      <td>0.430752</td>\n",
              "      <td>-1.280750</td>\n",
              "      <td>0.663863</td>\n",
              "      <td>-0.568467</td>\n",
              "      <td>-0.394546</td>\n",
              "      <td>-1.111464</td>\n",
              "      <td>-1.090885</td>\n",
              "      <td>-0.236308</td>\n",
              "      <td>-1.250501</td>\n",
              "      <td>-0.265079</td>\n",
              "      <td>-0.472264</td>\n",
              "    </tr>\n",
              "    <tr>\n",
              "      <th>50%</th>\n",
              "      <td>1.022518</td>\n",
              "      <td>-0.764808</td>\n",
              "      <td>1.075599</td>\n",
              "      <td>-0.203719</td>\n",
              "      <td>-0.132151</td>\n",
              "      <td>-0.708455</td>\n",
              "      <td>-0.609463</td>\n",
              "      <td>0.359942</td>\n",
              "      <td>-0.779221</td>\n",
              "      <td>0.378016</td>\n",
              "      <td>0.216213</td>\n",
              "    </tr>\n",
              "    <tr>\n",
              "      <th>75%</th>\n",
              "      <td>1.604062</td>\n",
              "      <td>-0.218735</td>\n",
              "      <td>1.336405</td>\n",
              "      <td>0.334222</td>\n",
              "      <td>0.274002</td>\n",
              "      <td>0.000070</td>\n",
              "      <td>0.042224</td>\n",
              "      <td>1.088236</td>\n",
              "      <td>-0.250162</td>\n",
              "      <td>1.043350</td>\n",
              "      <td>1.042747</td>\n",
              "    </tr>\n",
              "    <tr>\n",
              "      <th>max</th>\n",
              "      <td>3.434380</td>\n",
              "      <td>1.909687</td>\n",
              "      <td>3.051676</td>\n",
              "      <td>5.873725</td>\n",
              "      <td>10.103357</td>\n",
              "      <td>1.799545</td>\n",
              "      <td>1.883506</td>\n",
              "      <td>3.415415</td>\n",
              "      <td>1.464962</td>\n",
              "      <td>6.377026</td>\n",
              "      <td>3.703973</td>\n",
              "    </tr>\n",
              "  </tbody>\n",
              "</table>\n",
              "</div>"
            ],
            "text/plain": [
              "       fixed acidity  volatile acidity  ...   sulphates     alcohol\n",
              "count     476.000000        476.000000  ...  476.000000  476.000000\n",
              "mean        1.025600         -0.694755  ...    0.557607    0.285145\n",
              "std         0.813643          0.768397  ...    1.186172    1.015434\n",
              "min        -1.203981         -2.644648  ...   -1.605257   -2.109913\n",
              "25%         0.430752         -1.280750  ...   -0.265079   -0.472264\n",
              "50%         1.022518         -0.764808  ...    0.378016    0.216213\n",
              "75%         1.604062         -0.218735  ...    1.043350    1.042747\n",
              "max         3.434380          1.909687  ...    6.377026    3.703973\n",
              "\n",
              "[8 rows x 11 columns]"
            ]
          },
          "metadata": {
            "tags": []
          },
          "execution_count": 98
        }
      ]
    },
    {
      "cell_type": "code",
      "metadata": {
        "colab": {
          "base_uri": "https://localhost:8080/",
          "height": 314
        },
        "id": "I3cFH3pgUIkz",
        "outputId": "30d81345-c3ba-42f4-d640-1ce280d7753e"
      },
      "source": [
        "opis3 \n",
        "# Są to wina prawdopodobnie słodkie ze wzgledu na wiekszą zawartość tlenków siarki i delikatnie powyższą zawartość cukrów\n",
        "# liczny zbiór - 547 obserwacji\n",
        "#stała kwasowość  poniżej sredniej\n",
        "#lotna kwasowość delikatnie powyżej średniej\n",
        "#kwas cytrynowy delikatnie powyżej sredniej\n",
        "#cukier resztkowy powyżej sredniej\n",
        "#chlorki ponizej delikatnie poniżej sredniej\n",
        "#wolny dwutlenek siarki powyżej sredniej\n",
        "#całkowity dwutlenek siarki powyżej sredniej\n",
        "#gęstość powyżej sredniej\n",
        "#pH delikatnie poniżej sredniej\n",
        "#siarczany lekko poniżej sredniej\n",
        "#alkohol poniżej sredniej"
      ],
      "execution_count": null,
      "outputs": [
        {
          "output_type": "execute_result",
          "data": {
            "text/html": [
              "<div>\n",
              "<style scoped>\n",
              "    .dataframe tbody tr th:only-of-type {\n",
              "        vertical-align: middle;\n",
              "    }\n",
              "\n",
              "    .dataframe tbody tr th {\n",
              "        vertical-align: top;\n",
              "    }\n",
              "\n",
              "    .dataframe thead th {\n",
              "        text-align: right;\n",
              "    }\n",
              "</style>\n",
              "<table border=\"1\" class=\"dataframe\">\n",
              "  <thead>\n",
              "    <tr style=\"text-align: right;\">\n",
              "      <th></th>\n",
              "      <th>fixed acidity</th>\n",
              "      <th>volatile acidity</th>\n",
              "      <th>citric acid</th>\n",
              "      <th>residual sugar</th>\n",
              "      <th>chlorides</th>\n",
              "      <th>free sulfur dioxide</th>\n",
              "      <th>total sulfur dioxide</th>\n",
              "      <th>density</th>\n",
              "      <th>pH</th>\n",
              "      <th>sulphates</th>\n",
              "      <th>alcohol</th>\n",
              "    </tr>\n",
              "  </thead>\n",
              "  <tbody>\n",
              "    <tr>\n",
              "      <th>count</th>\n",
              "      <td>547.000000</td>\n",
              "      <td>547.000000</td>\n",
              "      <td>547.000000</td>\n",
              "      <td>547.000000</td>\n",
              "      <td>547.000000</td>\n",
              "      <td>547.000000</td>\n",
              "      <td>547.000000</td>\n",
              "      <td>547.000000</td>\n",
              "      <td>547.000000</td>\n",
              "      <td>547.000000</td>\n",
              "      <td>547.000000</td>\n",
              "    </tr>\n",
              "    <tr>\n",
              "      <th>mean</th>\n",
              "      <td>-0.087819</td>\n",
              "      <td>0.032770</td>\n",
              "      <td>0.044934</td>\n",
              "      <td>0.240256</td>\n",
              "      <td>-0.034504</td>\n",
              "      <td>0.802269</td>\n",
              "      <td>0.964602</td>\n",
              "      <td>0.217820</td>\n",
              "      <td>-0.036570</td>\n",
              "      <td>-0.149092</td>\n",
              "      <td>-0.452360</td>\n",
              "    </tr>\n",
              "    <tr>\n",
              "      <th>std</th>\n",
              "      <td>0.643203</td>\n",
              "      <td>0.905735</td>\n",
              "      <td>0.728569</td>\n",
              "      <td>1.195646</td>\n",
              "      <td>0.540150</td>\n",
              "      <td>0.674212</td>\n",
              "      <td>0.563775</td>\n",
              "      <td>0.856977</td>\n",
              "      <td>0.760697</td>\n",
              "      <td>0.862432</td>\n",
              "      <td>0.760397</td>\n",
              "    </tr>\n",
              "    <tr>\n",
              "      <th>min</th>\n",
              "      <td>-1.846576</td>\n",
              "      <td>-2.339214</td>\n",
              "      <td>-1.497274</td>\n",
              "      <td>-2.135272</td>\n",
              "      <td>-1.824297</td>\n",
              "      <td>-1.358661</td>\n",
              "      <td>-0.443380</td>\n",
              "      <td>-3.544303</td>\n",
              "      <td>-2.857391</td>\n",
              "      <td>-1.833141</td>\n",
              "      <td>-1.992862</td>\n",
              "    </tr>\n",
              "    <tr>\n",
              "      <th>25%</th>\n",
              "      <td>-0.559335</td>\n",
              "      <td>-0.640463</td>\n",
              "      <td>-0.383353</td>\n",
              "      <td>-0.442852</td>\n",
              "      <td>-0.298819</td>\n",
              "      <td>0.311420</td>\n",
              "      <td>0.519131</td>\n",
              "      <td>-0.281371</td>\n",
              "      <td>-0.579650</td>\n",
              "      <td>-0.739474</td>\n",
              "      <td>-0.991666</td>\n",
              "    </tr>\n",
              "    <tr>\n",
              "      <th>50%</th>\n",
              "      <td>-0.167321</td>\n",
              "      <td>0.127163</td>\n",
              "      <td>0.019454</td>\n",
              "      <td>-0.089701</td>\n",
              "      <td>-0.108429</td>\n",
              "      <td>0.864408</td>\n",
              "      <td>0.940729</td>\n",
              "      <td>0.187727</td>\n",
              "      <td>-0.054317</td>\n",
              "      <td>-0.331572</td>\n",
              "      <td>-0.677107</td>\n",
              "    </tr>\n",
              "    <tr>\n",
              "      <th>75%</th>\n",
              "      <td>0.373730</td>\n",
              "      <td>0.621528</td>\n",
              "      <td>0.520670</td>\n",
              "      <td>0.433035</td>\n",
              "      <td>0.115836</td>\n",
              "      <td>1.274824</td>\n",
              "      <td>1.369920</td>\n",
              "      <td>0.664563</td>\n",
              "      <td>0.461332</td>\n",
              "      <td>0.315422</td>\n",
              "      <td>-0.073618</td>\n",
              "    </tr>\n",
              "    <tr>\n",
              "      <th>max</th>\n",
              "      <td>1.873710</td>\n",
              "      <td>3.388483</td>\n",
              "      <td>2.286894</td>\n",
              "      <td>5.851201</td>\n",
              "      <td>4.001636</td>\n",
              "      <td>2.648268</td>\n",
              "      <td>2.982484</td>\n",
              "      <td>3.674262</td>\n",
              "      <td>1.832229</td>\n",
              "      <td>4.931614</td>\n",
              "      <td>2.217009</td>\n",
              "    </tr>\n",
              "  </tbody>\n",
              "</table>\n",
              "</div>"
            ],
            "text/plain": [
              "       fixed acidity  volatile acidity  ...   sulphates     alcohol\n",
              "count     547.000000        547.000000  ...  547.000000  547.000000\n",
              "mean       -0.087819          0.032770  ...   -0.149092   -0.452360\n",
              "std         0.643203          0.905735  ...    0.862432    0.760397\n",
              "min        -1.846576         -2.339214  ...   -1.833141   -1.992862\n",
              "25%        -0.559335         -0.640463  ...   -0.739474   -0.991666\n",
              "50%        -0.167321          0.127163  ...   -0.331572   -0.677107\n",
              "75%         0.373730          0.621528  ...    0.315422   -0.073618\n",
              "max         1.873710          3.388483  ...    4.931614    2.217009\n",
              "\n",
              "[8 rows x 11 columns]"
            ]
          },
          "metadata": {
            "tags": []
          },
          "execution_count": 103
        }
      ]
    },
    {
      "cell_type": "code",
      "metadata": {
        "id": "wzonGt4ZVe7x"
      },
      "source": [
        "#Rysujemy histogramy dla klastrow. Klaster 0.\n",
        "#Wybieramy te obserwacje zmiennej quality, ktore sa zwiazane z klastrem 0\n",
        "wine_0=wine['quality'][cluster==0]\n",
        "# Separujemy wartosci zmiennej quality ze wzgledu na ocene <3-8>\n",
        "wine_0_3=wine_0[wine_0==3]\n",
        "wine_0_4=wine_0[wine_0==4]\n",
        "wine_0_5=wine_0[wine_0==5]\n",
        "wine_0_6=wine_0[wine_0==6]\n",
        "wine_0_7=wine_0[wine_0==7]\n",
        "wine_0_8=wine_0[wine_0==8]"
      ],
      "execution_count": null,
      "outputs": []
    },
    {
      "cell_type": "code",
      "metadata": {
        "id": "ZNGwYnQgY_vI"
      },
      "source": [
        "#Rysujemy histogramy dla klastrow. Klaster 1.\n",
        "#Wybieramy te obserwacje zmiennej quality, ktore sa zwiazane z klastrem 1.\n",
        "wine_1=wine['quality'][cluster==1]\n",
        "# Separujemy wartosci zmiennej quality ze wzgledu na ocene <3-8>\n",
        "wine_1_3=wine_1[wine_1==3]\n",
        "wine_1_4=wine_1[wine_1==4]\n",
        "wine_1_5=wine_1[wine_1==5]\n",
        "wine_1_6=wine_1[wine_1==6]\n",
        "wine_1_7=wine_1[wine_1==7]\n",
        "wine_1_8=wine_1[wine_1==8]"
      ],
      "execution_count": null,
      "outputs": []
    },
    {
      "cell_type": "code",
      "metadata": {
        "id": "4SjnQT0mZRUY"
      },
      "source": [
        "#Rysujemy histogramy dla klastrow. Klaster 2.\n",
        "#Wybieramy te obserwacje zmiennej quality, ktore sa zwiazane z klastrem 2.\n",
        "wine_2=wine['quality'][cluster==2]\n",
        "# Separujemy wartosci zmiennej quality ze wzgledu na ocene <3-8>\n",
        "wine_2_3=wine_2[wine_2==3]\n",
        "wine_2_4=wine_2[wine_2==4]\n",
        "wine_2_5=wine_2[wine_2==5]\n",
        "wine_2_6=wine_2[wine_2==6]\n",
        "wine_2_7=wine_2[wine_2==7]\n",
        "wine_2_8=wine_2[wine_2==8]"
      ],
      "execution_count": null,
      "outputs": []
    },
    {
      "cell_type": "code",
      "metadata": {
        "id": "IFhUNZ8wZWio"
      },
      "source": [
        "#Rysujemy histogramy dla klastrow. Klaster 3.\n",
        "#Wybieramy te obserwacje zmiennej quality, ktore sa zwiazane z klastrem 3.\n",
        "wine_3=wine['quality'][cluster==3]\n",
        "# Separujemy wartosci zmiennej quality ze wzgledu na ocene <3-8>\n",
        "wine_3_3=wine_3[wine_3==3]\n",
        "wine_3_4=wine_3[wine_3==4]\n",
        "wine_3_5=wine_3[wine_3==5]\n",
        "wine_3_6=wine_3[wine_3==6]\n",
        "wine_3_7=wine_3[wine_3==7]\n",
        "wine_3_8=wine_3[wine_3==8]"
      ],
      "execution_count": null,
      "outputs": []
    },
    {
      "cell_type": "code",
      "metadata": {
        "colab": {
          "base_uri": "https://localhost:8080/",
          "height": 349
        },
        "id": "xfmf07UAZf1w",
        "outputId": "a7b9fc6c-4f63-43ec-d14b-f558be33bc47"
      },
      "source": [
        "plt.hist([wine_0_3,wine_0_4,wine_0_5,wine_0_6,wine_0_7,wine_0_8], bins=6, stacked=True, color=['green', 'red', \"yellow\", \"blue\", \"pink\", \"orange\"], label = ['Quality=3', 'Quality=4','Quality=5','Quality=6','Quality=3','Quality=8' ])\n",
        "handles, labels = plt.gca().get_legend_handles_labels()\n",
        "plt.legend(reversed(handles), reversed(labels))\n",
        "plt.title('Histogram of Cluster 0')\n",
        "plt.xlabel('Quality')\n",
        "plt.ylabel('Frequency')\n",
        "plt.show()"
      ],
      "execution_count": null,
      "outputs": [
        {
          "output_type": "stream",
          "text": [
            "/usr/local/lib/python3.7/dist-packages/numpy/core/_asarray.py:83: VisibleDeprecationWarning: Creating an ndarray from ragged nested sequences (which is a list-or-tuple of lists-or-tuples-or ndarrays with different lengths or shapes) is deprecated. If you meant to do this, you must specify 'dtype=object' when creating the ndarray\n",
            "  return array(a, dtype, copy=False, order=order)\n"
          ],
          "name": "stderr"
        },
        {
          "output_type": "display_data",
          "data": {
            "image/png": "[encoded data removed]",
            "text/plain": [
              "<Figure size 432x288 with 1 Axes>"
            ]
          },
          "metadata": {
            "tags": [],
            "needs_background": "light"
          }
        }
      ]
    },
    {
      "cell_type": "code",
      "metadata": {
        "colab": {
          "base_uri": "https://localhost:8080/",
          "height": 349
        },
        "id": "NOM0Gd_dZxHt",
        "outputId": "99393619-29e6-4205-fce8-04364c91bb87"
      },
      "source": [
        "plt.hist([wine_0_3,wine_0_4,wine_0_5,wine_0_6,wine_0_7,wine_0_8], bins=6, density=True, stacked=True, color=['green', 'red', \"yellow\", \"blue\", \"pink\", \"orange\"], label = ['Quality=3', 'Quality=4','Quality=5','Quality=6','Quality=3','Quality=8' ])\n",
        "handles, labels = plt.gca().get_legend_handles_labels()\n",
        "plt.legend(reversed(handles), reversed(labels))\n",
        "plt.title('Histogram of Cluster 0')\n",
        "plt.xlabel('Quality')\n",
        "plt.ylabel('Frequency')\n",
        "plt.show()"
      ],
      "execution_count": null,
      "outputs": [
        {
          "output_type": "stream",
          "text": [
            "/usr/local/lib/python3.7/dist-packages/numpy/core/_asarray.py:83: VisibleDeprecationWarning: Creating an ndarray from ragged nested sequences (which is a list-or-tuple of lists-or-tuples-or ndarrays with different lengths or shapes) is deprecated. If you meant to do this, you must specify 'dtype=object' when creating the ndarray\n",
            "  return array(a, dtype, copy=False, order=order)\n"
          ],
          "name": "stderr"
        },
        {
          "output_type": "display_data",
          "data": {
            "image/png": "[encoded data removed]",
            "text/plain": [
              "<Figure size 432x288 with 1 Axes>"
            ]
          },
          "metadata": {
            "tags": [],
            "needs_background": "light"
          }
        }
      ]
    },
    {
      "cell_type": "code",
      "metadata": {
        "colab": {
          "base_uri": "https://localhost:8080/",
          "height": 349
        },
        "id": "val1cOFwapHA",
        "outputId": "3f82ec59-2f70-475f-e068-11d296774fcd"
      },
      "source": [
        "plt.hist([wine_1_3,wine_1_4,wine_1_5,wine_1_6,wine_1_7,wine_1_8], bins=6, stacked=True, color=['green', 'red', \"yellow\", \"blue\", \"pink\", \"orange\"], label = ['Quality=3', 'Quality=4','Quality=5','Quality=6','Quality=3','Quality=8' ])\n",
        "handles, labels = plt.gca().get_legend_handles_labels()\n",
        "plt.legend(reversed(handles), reversed(labels))\n",
        "plt.title('Histogram of Cluster 1')\n",
        "plt.xlabel('Quality')\n",
        "plt.ylabel('Frequency')\n",
        "plt.show()\n"
      ],
      "execution_count": null,
      "outputs": [
        {
          "output_type": "stream",
          "text": [
            "/usr/local/lib/python3.7/dist-packages/numpy/core/_asarray.py:83: VisibleDeprecationWarning: Creating an ndarray from ragged nested sequences (which is a list-or-tuple of lists-or-tuples-or ndarrays with different lengths or shapes) is deprecated. If you meant to do this, you must specify 'dtype=object' when creating the ndarray\n",
            "  return array(a, dtype, copy=False, order=order)\n"
          ],
          "name": "stderr"
        },
        {
          "output_type": "display_data",
          "data": {
            "image/png": "[encoded data removed]",
            "text/plain": [
              "<Figure size 432x288 with 1 Axes>"
            ]
          },
          "metadata": {
            "tags": [],
            "needs_background": "light"
          }
        }
      ]
    },
    {
      "cell_type": "code",
      "metadata": {
        "colab": {
          "base_uri": "https://localhost:8080/",
          "height": 349
        },
        "id": "gXPEiCM_azvd",
        "outputId": "e33c8be7-45b4-4cb8-b672-f9a93c21592d"
      },
      "source": [
        "plt.hist([wine_1_3,wine_1_4,wine_1_5,wine_1_6,wine_1_7,wine_1_8], bins=6, density = True, stacked=True, color=['green', 'red', \"yellow\", \"blue\", \"pink\", \"orange\"], label = ['Quality=3', 'Quality=4','Quality=5','Quality=6','Quality=3','Quality=8' ])\n",
        "handles, labels = plt.gca().get_legend_handles_labels()\n",
        "plt.legend(reversed(handles), reversed(labels))\n",
        "plt.title('Histogram of Cluster 1')\n",
        "plt.xlabel('Quality')\n",
        "plt.ylabel('Frequency')\n",
        "plt.show()"
      ],
      "execution_count": null,
      "outputs": [
        {
          "output_type": "stream",
          "text": [
            "/usr/local/lib/python3.7/dist-packages/numpy/core/_asarray.py:83: VisibleDeprecationWarning: Creating an ndarray from ragged nested sequences (which is a list-or-tuple of lists-or-tuples-or ndarrays with different lengths or shapes) is deprecated. If you meant to do this, you must specify 'dtype=object' when creating the ndarray\n",
            "  return array(a, dtype, copy=False, order=order)\n"
          ],
          "name": "stderr"
        },
        {
          "output_type": "display_data",
          "data": {
            "image/png": "[encoded data removed]",
            "text/plain": [
              "<Figure size 432x288 with 1 Axes>"
            ]
          },
          "metadata": {
            "tags": [],
            "needs_background": "light"
          }
        }
      ]
    },
    {
      "cell_type": "code",
      "metadata": {
        "colab": {
          "base_uri": "https://localhost:8080/",
          "height": 349
        },
        "id": "TWW6vMQ2a9C3",
        "outputId": "826d46dc-17ce-44bd-d924-40132985b204"
      },
      "source": [
        "plt.hist([wine_2_3,wine_2_4,wine_2_5,wine_2_6,wine_2_7,wine_2_8], bins=5, stacked=True, color=['green', 'red', \"yellow\", \"blue\", \"pink\", \"orange\"], label = ['Quality=3', 'Quality=4','Quality=5','Quality=6','Quality=3','Quality=8' ])\n",
        "handles, labels = plt.gca().get_legend_handles_labels()\n",
        "plt.legend(reversed(handles), reversed(labels))\n",
        "plt.title('Histogram of Cluster 2')\n",
        "plt.xlabel('Quality')\n",
        "plt.ylabel('Frequency')\n",
        "plt.show()"
      ],
      "execution_count": null,
      "outputs": [
        {
          "output_type": "stream",
          "text": [
            "/usr/local/lib/python3.7/dist-packages/numpy/core/_asarray.py:83: VisibleDeprecationWarning: Creating an ndarray from ragged nested sequences (which is a list-or-tuple of lists-or-tuples-or ndarrays with different lengths or shapes) is deprecated. If you meant to do this, you must specify 'dtype=object' when creating the ndarray\n",
            "  return array(a, dtype, copy=False, order=order)\n"
          ],
          "name": "stderr"
        },
        {
          "output_type": "display_data",
          "data": {
            "image/png": "[encoded data removed]",
            "text/plain": [
              "<Figure size 432x288 with 1 Axes>"
            ]
          },
          "metadata": {
            "tags": [],
            "needs_background": "light"
          }
        }
      ]
    },
    {
      "cell_type": "code",
      "metadata": {
        "colab": {
          "base_uri": "https://localhost:8080/",
          "height": 349
        },
        "id": "Ry6yxxQpbeIo",
        "outputId": "3196d8e8-99ba-4a5a-83fb-5cf22046a8c6"
      },
      "source": [
        "plt.hist([wine_2_3,wine_2_4,wine_2_5,wine_2_6,wine_2_7,wine_2_8], bins=5, density=True ,stacked=True, color=['green', 'red', \"yellow\", \"blue\", \"pink\", \"orange\"], label = ['Quality=3', 'Quality=4','Quality=5','Quality=6','Quality=3','Quality=8' ])\n",
        "handles, labels = plt.gca().get_legend_handles_labels()\n",
        "plt.legend(reversed(handles), reversed(labels))\n",
        "plt.title('Histogram of Cluster 2')\n",
        "plt.xlabel('Quality')\n",
        "plt.ylabel('Frequency')\n",
        "plt.show()"
      ],
      "execution_count": null,
      "outputs": [
        {
          "output_type": "stream",
          "text": [
            "/usr/local/lib/python3.7/dist-packages/numpy/core/_asarray.py:83: VisibleDeprecationWarning: Creating an ndarray from ragged nested sequences (which is a list-or-tuple of lists-or-tuples-or ndarrays with different lengths or shapes) is deprecated. If you meant to do this, you must specify 'dtype=object' when creating the ndarray\n",
            "  return array(a, dtype, copy=False, order=order)\n"
          ],
          "name": "stderr"
        },
        {
          "output_type": "display_data",
          "data": {
            "image/png": "[encoded data removed]",
            "text/plain": [
              "<Figure size 432x288 with 1 Axes>"
            ]
          },
          "metadata": {
            "tags": [],
            "needs_background": "light"
          }
        }
      ]
    }
  ]
}