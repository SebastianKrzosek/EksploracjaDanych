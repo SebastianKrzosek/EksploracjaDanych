{
 "cells": [
  {
   "cell_type": "code",
   "execution_count": null,
   "metadata": {},
   "outputs": [],
   "source": [
    "#Sieci Kohonena\n",
    "!pip install sklearn_som"
   ]
  },
  {
   "cell_type": "code",
   "execution_count": 1,
   "metadata": {},
   "outputs": [],
   "source": [
    "import numpy as np\n",
    "import pandas as pd\n",
    "from scipy import stats\n",
    "from sklearn_som.som import SOM"
   ]
  },
  {
   "cell_type": "code",
   "execution_count": 2,
   "metadata": {},
   "outputs": [
    {
     "data": {
      "text/html": [
       "<div>\n",
       "<style scoped>\n",
       "    .dataframe tbody tr th:only-of-type {\n",
       "        vertical-align: middle;\n",
       "    }\n",
       "\n",
       "    .dataframe tbody tr th {\n",
       "        vertical-align: top;\n",
       "    }\n",
       "\n",
       "    .dataframe thead th {\n",
       "        text-align: right;\n",
       "    }\n",
       "</style>\n",
       "<table border=\"1\" class=\"dataframe\">\n",
       "  <thead>\n",
       "    <tr style=\"text-align: right;\">\n",
       "      <th></th>\n",
       "      <th>rok</th>\n",
       "      <th>ryz</th>\n",
       "      <th>maka</th>\n",
       "      <th>kurczak</th>\n",
       "      <th>kielbasa</th>\n",
       "      <th>jaja</th>\n",
       "      <th>maslo</th>\n",
       "      <th>olej</th>\n",
       "      <th>cukier</th>\n",
       "      <th>miod</th>\n",
       "      <th>kawa</th>\n",
       "      <th>herbata</th>\n",
       "      <th>karp</th>\n",
       "      <th>przyrost</th>\n",
       "      <th>bezrobocie</th>\n",
       "      <th>przyrost2</th>\n",
       "    </tr>\n",
       "  </thead>\n",
       "  <tbody>\n",
       "    <tr>\n",
       "      <th>0</th>\n",
       "      <td>1999</td>\n",
       "      <td>2.43</td>\n",
       "      <td>1.48</td>\n",
       "      <td>5.24</td>\n",
       "      <td>10.99</td>\n",
       "      <td>0.27</td>\n",
       "      <td>2.26</td>\n",
       "      <td>4.91</td>\n",
       "      <td>1.95</td>\n",
       "      <td>6.38</td>\n",
       "      <td>6.95</td>\n",
       "      <td>1.92</td>\n",
       "      <td>9.97</td>\n",
       "      <td>-1</td>\n",
       "      <td>11.4</td>\n",
       "      <td>ujemne</td>\n",
       "    </tr>\n",
       "    <tr>\n",
       "      <th>1</th>\n",
       "      <td>2000</td>\n",
       "      <td>2.39</td>\n",
       "      <td>1.60</td>\n",
       "      <td>5.76</td>\n",
       "      <td>11.87</td>\n",
       "      <td>0.33</td>\n",
       "      <td>2.88</td>\n",
       "      <td>4.18</td>\n",
       "      <td>2.97</td>\n",
       "      <td>6.40</td>\n",
       "      <td>6.72</td>\n",
       "      <td>2.04</td>\n",
       "      <td>9.58</td>\n",
       "      <td>-1</td>\n",
       "      <td>13.7</td>\n",
       "      <td>ujemne</td>\n",
       "    </tr>\n",
       "    <tr>\n",
       "      <th>2</th>\n",
       "      <td>2001</td>\n",
       "      <td>2.29</td>\n",
       "      <td>1.70</td>\n",
       "      <td>5.90</td>\n",
       "      <td>12.68</td>\n",
       "      <td>0.34</td>\n",
       "      <td>2.35</td>\n",
       "      <td>4.09</td>\n",
       "      <td>2.52</td>\n",
       "      <td>6.48</td>\n",
       "      <td>5.79</td>\n",
       "      <td>2.14</td>\n",
       "      <td>9.77</td>\n",
       "      <td>-1</td>\n",
       "      <td>15.7</td>\n",
       "      <td>ujemne</td>\n",
       "    </tr>\n",
       "    <tr>\n",
       "      <th>3</th>\n",
       "      <td>2002</td>\n",
       "      <td>2.12</td>\n",
       "      <td>1.57</td>\n",
       "      <td>4.93</td>\n",
       "      <td>12.44</td>\n",
       "      <td>0.30</td>\n",
       "      <td>2.35</td>\n",
       "      <td>4.13</td>\n",
       "      <td>2.28</td>\n",
       "      <td>6.66</td>\n",
       "      <td>4.75</td>\n",
       "      <td>2.14</td>\n",
       "      <td>10.04</td>\n",
       "      <td>-1</td>\n",
       "      <td>18.1</td>\n",
       "      <td>ujemne</td>\n",
       "    </tr>\n",
       "    <tr>\n",
       "      <th>4</th>\n",
       "      <td>2003</td>\n",
       "      <td>1.98</td>\n",
       "      <td>1.48</td>\n",
       "      <td>5.09</td>\n",
       "      <td>11.34</td>\n",
       "      <td>0.33</td>\n",
       "      <td>2.47</td>\n",
       "      <td>4.45</td>\n",
       "      <td>2.15</td>\n",
       "      <td>6.73</td>\n",
       "      <td>4.55</td>\n",
       "      <td>2.13</td>\n",
       "      <td>10.95</td>\n",
       "      <td>-1</td>\n",
       "      <td>20.6</td>\n",
       "      <td>ujemne</td>\n",
       "    </tr>\n",
       "  </tbody>\n",
       "</table>\n",
       "</div>"
      ],
      "text/plain": [
       "    rok   ryz  maka  kurczak  kielbasa  jaja  maslo  olej  cukier  miod  kawa  \\\n",
       "0  1999  2.43  1.48     5.24     10.99  0.27   2.26  4.91    1.95  6.38  6.95   \n",
       "1  2000  2.39  1.60     5.76     11.87  0.33   2.88  4.18    2.97  6.40  6.72   \n",
       "2  2001  2.29  1.70     5.90     12.68  0.34   2.35  4.09    2.52  6.48  5.79   \n",
       "3  2002  2.12  1.57     4.93     12.44  0.30   2.35  4.13    2.28  6.66  4.75   \n",
       "4  2003  1.98  1.48     5.09     11.34  0.33   2.47  4.45    2.15  6.73  4.55   \n",
       "\n",
       "   herbata   karp  przyrost  bezrobocie przyrost2  \n",
       "0     1.92   9.97        -1        11.4    ujemne  \n",
       "1     2.04   9.58        -1        13.7    ujemne  \n",
       "2     2.14   9.77        -1        15.7    ujemne  \n",
       "3     2.14  10.04        -1        18.1    ujemne  \n",
       "4     2.13  10.95        -1        20.6    ujemne  "
      ]
     },
     "execution_count": 2,
     "metadata": {},
     "output_type": "execute_result"
    }
   ],
   "source": [
    "ceny=pd.read_csv(\"C:\\\\Users\\\\user\\\\Documents\\\\Eksploracja danych\\\\Informatyka\\\\Lab12\\\\ceny.csv\",sep=\";\",decimal=\",\")\n",
    "ceny.head()"
   ]
  },
  {
   "cell_type": "code",
   "execution_count": 3,
   "metadata": {},
   "outputs": [],
   "source": [
    "names2=['ryz', 'maka', 'kurczak', 'kielbasa', 'jaja','maslo','olej','cukier','miod','kawa','herbata','karp']\n",
    "ceny_data=ceny[names2]\n",
    "ceny_data=stats.zscore(ceny_data) "
   ]
  },
  {
   "cell_type": "code",
   "execution_count": 4,
   "metadata": {},
   "outputs": [],
   "source": [
    "data=np.array(ceny_data)"
   ]
  },
  {
   "cell_type": "code",
   "execution_count": 21,
   "metadata": {},
   "outputs": [],
   "source": [
    "ceny_som = SOM(m=2, n=2, dim=12)\n",
    "ceny_som.fit(data)"
   ]
  },
  {
   "cell_type": "code",
   "execution_count": 22,
   "metadata": {},
   "outputs": [],
   "source": [
    "ceny['klastry'] = ceny_som.predict(data)"
   ]
  },
  {
   "cell_type": "code",
   "execution_count": 23,
   "metadata": {},
   "outputs": [
    {
     "name": "stdout",
     "output_type": "stream",
     "text": [
      "     rok  klastry  bezrobocie przyrost2\n",
      "0   1999        2        11.4    ujemne\n",
      "1   2000        2        13.7    ujemne\n",
      "2   2001        2        15.7    ujemne\n",
      "3   2002        2        18.1    ujemne\n",
      "4   2003        2        20.6    ujemne\n",
      "5   2004        2        20.6    ujemne\n",
      "6   2005        2        19.4    ujemne\n",
      "7   2006        2        18.0    ujemne\n",
      "8   2007        2        15.1    ujemne\n",
      "9   2008        0        11.5  dodatnie\n",
      "10  2009        1        10.4  dodatnie\n",
      "11  2010        1        12.9    ujemne\n",
      "12  2011        1        13.1  dodatnie\n",
      "13  2012        1        13.2    ujemne\n",
      "14  2013        1        14.2    ujemne\n",
      "15  2014        1        13.9    ujemne\n",
      "16  2015        1        11.9    ujemne\n",
      "17  2016        1        10.2    ujemne\n",
      "18  2017        1         8.5  dodatnie\n",
      "19  2018        1         6.8  dodatnie\n",
      "20  2019        1         6.1    ujemne\n"
     ]
    }
   ],
   "source": [
    "zestawienie=ceny[['rok','klastry','bezrobocie','przyrost2']]\n",
    "print(zestawienie)"
   ]
  },
  {
   "cell_type": "code",
   "execution_count": 12,
   "metadata": {},
   "outputs": [
    {
     "data": {
      "text/plain": [
       "array([[3.15913596, 4.80919484, 4.48627678, 6.96577714],\n",
       "       [2.36848757, 4.1267283 , 3.64293566, 6.27611202],\n",
       "       [2.0844355 , 4.10950008, 3.67236639, 6.33998301],\n",
       "       [2.54224992, 4.84186506, 4.47783981, 7.14908117],\n",
       "       [2.505173  , 4.777729  , 4.44699217, 7.09020719],\n",
       "       [1.34727662, 3.51173425, 3.16393095, 5.83170475],\n",
       "       [1.34130288, 3.54058485, 3.21369369, 5.88781135],\n",
       "       [1.72107186, 3.93910329, 3.60222989, 6.27183614],\n",
       "       [0.9113691 , 2.65124959, 2.30644119, 4.98223818],\n",
       "       [2.10658651, 1.52662626, 1.68060164, 3.6580183 ],\n",
       "       [3.06887045, 1.63968044, 2.00821977, 3.1176466 ],\n",
       "       [2.71234186, 0.85573589, 1.37337653, 2.62304443],\n",
       "       [4.80146614, 2.9455926 , 3.15998827, 2.57585548],\n",
       "       [5.79267388, 3.66451886, 3.92447535, 2.35454   ],\n",
       "       [5.26943777, 3.03402293, 3.34996669, 1.61370528],\n",
       "       [4.50946639, 2.21837274, 2.61753123, 1.12564542],\n",
       "       [4.16274219, 2.07048198, 2.41780929, 1.69608389],\n",
       "       [4.1646386 , 1.91417827, 2.22067823, 1.14700635],\n",
       "       [5.42206862, 3.15344318, 3.43040304, 1.02704483],\n",
       "       [6.44582712, 4.3073944 , 4.59741984, 2.42191653],\n",
       "       [7.60228684, 5.46015004, 5.73871509, 3.38615884]])"
      ]
     },
     "execution_count": 12,
     "metadata": {},
     "output_type": "execute_result"
    }
   ],
   "source": [
    "ceny_som.transform(data)\n",
    "#The Euclidean distance from each item in data to each cluster center."
   ]
  }
 ],
 "metadata": {
  "kernelspec": {
   "display_name": "Python 3",
   "language": "python",
   "name": "python3"
  },
  "language_info": {
   "codemirror_mode": {
    "name": "ipython",
    "version": 3
   },
   "file_extension": ".py",
   "mimetype": "text/x-python",
   "name": "python",
   "nbconvert_exporter": "python",
   "pygments_lexer": "ipython3",
   "version": "3.8.3"
  }
 },
 "nbformat": 4,
 "nbformat_minor": 4
}
